{
 "cells": [
  {
   "cell_type": "code",
   "execution_count": 172,
   "id": "01a6f4a6-7377-4e53-aad3-0e1191e24342",
   "metadata": {},
   "outputs": [],
   "source": [
    "import os\n",
    "import sys"
   ]
  },
  {
   "cell_type": "code",
   "execution_count": 173,
   "id": "a934666b-151f-491b-8b2a-1596147cef00",
   "metadata": {},
   "outputs": [],
   "source": [
    "sys.path.append(\"C:\\工具包\")"
   ]
  },
  {
   "cell_type": "code",
   "execution_count": 174,
   "id": "d1c229d7-f3df-437a-8f51-9161c00b7f68",
   "metadata": {},
   "outputs": [],
   "source": [
    "import cvxopt\n",
    "import toad\n",
    "import sklearn2pmml"
   ]
  },
  {
   "cell_type": "code",
   "execution_count": 175,
   "id": "2affe68e",
   "metadata": {},
   "outputs": [],
   "source": [
    "from hundredim.wrapper.experiment import score_card_experiment\n",
    "from hundredim.detection import detection\n",
    "from hundredim.util import analysis_tool\n",
    "from hundredim.util import tools\n",
    "import importlib\n",
    "from hundredim.transform.binning import autobinning\n",
    "# importlib.reload(autobinning)\n",
    "from hundredim.wrapper import combiner\n",
    "from hundredim.util import combine_scores\n",
    "from hundredim.util.analysis_tool import cal_psi\n",
    "from hundredim.report_generate import score_card_report_render\n",
    "from hundredim.wrapper import score_card_report\n",
    "import hundredim.util.tools\n",
    "import pandas as pd\n",
    "import numpy as np\n",
    "import os\n",
    "import sys\n",
    "import gc\n",
    "import re\n",
    "import tqdm\n",
    "import warnings\n",
    "from datetime import datetime\n",
    "warnings.filterwarnings('ignore')"
   ]
  },
  {
   "cell_type": "code",
   "execution_count": 176,
   "id": "2cccf0b2",
   "metadata": {},
   "outputs": [],
   "source": [
    "pd.set_option('display.max_columns', 200)\n",
    "pd.set_option('display.max_rows', 500)\n",
    "pd.set_option('display.width', 10000)"
   ]
  },
  {
   "cell_type": "code",
   "execution_count": 177,
   "id": "a067de3c-5ca8-4675-a683-c6d8e4a93fd9",
   "metadata": {},
   "outputs": [],
   "source": [
    "target_all=pd.read_excel(r\"D:\\work\\测评\\飞鸟\\测试数据_target_20250709_49W.xlsx\")"
   ]
  },
  {
   "cell_type": "code",
   "execution_count": 178,
   "id": "9428184a",
   "metadata": {},
   "outputs": [
    {
     "data": {
      "text/html": [
       "<div>\n",
       "<style scoped>\n",
       "    .dataframe tbody tr th:only-of-type {\n",
       "        vertical-align: middle;\n",
       "    }\n",
       "\n",
       "    .dataframe tbody tr th {\n",
       "        vertical-align: top;\n",
       "    }\n",
       "\n",
       "    .dataframe thead th {\n",
       "        text-align: right;\n",
       "    }\n",
       "</style>\n",
       "<table border=\"1\" class=\"dataframe\">\n",
       "  <thead>\n",
       "    <tr style=\"text-align: right;\">\n",
       "      <th></th>\n",
       "      <th></th>\n",
       "      <th>count</th>\n",
       "      <th>sum</th>\n",
       "      <th>mean</th>\n",
       "    </tr>\n",
       "    <tr>\n",
       "      <th>customer</th>\n",
       "      <th>channel</th>\n",
       "      <th></th>\n",
       "      <th></th>\n",
       "      <th></th>\n",
       "    </tr>\n",
       "  </thead>\n",
       "  <tbody>\n",
       "    <tr>\n",
       "      <th>DD</th>\n",
       "      <th>新客</th>\n",
       "      <td>175000</td>\n",
       "      <td>9024</td>\n",
       "      <td>0.051566</td>\n",
       "    </tr>\n",
       "    <tr>\n",
       "      <th rowspan=\"2\" valign=\"top\">HR</th>\n",
       "      <th>Hirr</th>\n",
       "      <td>100000</td>\n",
       "      <td>5719</td>\n",
       "      <td>0.057190</td>\n",
       "    </tr>\n",
       "    <tr>\n",
       "      <th>Lirr</th>\n",
       "      <td>134000</td>\n",
       "      <td>6492</td>\n",
       "      <td>0.048448</td>\n",
       "    </tr>\n",
       "    <tr>\n",
       "      <th>NB</th>\n",
       "      <th>字节</th>\n",
       "      <td>39705</td>\n",
       "      <td>1924</td>\n",
       "      <td>0.048457</td>\n",
       "    </tr>\n",
       "    <tr>\n",
       "      <th>YG</th>\n",
       "      <th>yqg</th>\n",
       "      <td>39685</td>\n",
       "      <td>4878</td>\n",
       "      <td>0.122918</td>\n",
       "    </tr>\n",
       "  </tbody>\n",
       "</table>\n",
       "</div>"
      ],
      "text/plain": [
       "                   count   sum      mean\n",
       "customer channel                        \n",
       "DD       新客       175000  9024  0.051566\n",
       "HR       Hirr     100000  5719  0.057190\n",
       "         Lirr     134000  6492  0.048448\n",
       "NB       字节        39705  1924  0.048457\n",
       "YG       yqg       39685  4878  0.122918"
      ]
     },
     "execution_count": 178,
     "metadata": {},
     "output_type": "execute_result"
    }
   ],
   "source": [
    "cust_map = {'滴滴金融':'DD','NB':'NB','海尔':'HR','YG':'YG'}\n",
    "target_all['customer'] = target_all['customer'].apply(lambda x: cust_map[x] if x in cust_map else x)\n",
    "target_all['date'] = target_all['date'].apply(lambda x: str(x)[:10])\n",
    "#target_all = target_all[target_all['zy_mth'].fillna(0).eq(0)]\n",
    "target_all['irr_type'] = target_all['customer'].apply(lambda x: 'irr14' if x in ['BZ', 'EZ'] else 'irr24' if x in ['DR',] else 'irr36')\n",
    "\n",
    "target_all.groupby(['customer', 'channel'])['target'].agg(['count','sum','mean'])"
   ]
  },
  {
   "cell_type": "code",
   "execution_count": 179,
   "id": "a779e3b8-03fc-4093-8961-e3ed3fd9d670",
   "metadata": {},
   "outputs": [
    {
     "data": {
      "text/html": [
       "<div>\n",
       "<style scoped>\n",
       "    .dataframe tbody tr th:only-of-type {\n",
       "        vertical-align: middle;\n",
       "    }\n",
       "\n",
       "    .dataframe tbody tr th {\n",
       "        vertical-align: top;\n",
       "    }\n",
       "\n",
       "    .dataframe thead th {\n",
       "        text-align: right;\n",
       "    }\n",
       "</style>\n",
       "<table border=\"1\" class=\"dataframe\">\n",
       "  <thead>\n",
       "    <tr style=\"text-align: right;\">\n",
       "      <th></th>\n",
       "      <th>count</th>\n",
       "      <th>sum</th>\n",
       "      <th>mean</th>\n",
       "    </tr>\n",
       "    <tr>\n",
       "      <th>customer</th>\n",
       "      <th></th>\n",
       "      <th></th>\n",
       "      <th></th>\n",
       "    </tr>\n",
       "  </thead>\n",
       "  <tbody>\n",
       "    <tr>\n",
       "      <th>DD</th>\n",
       "      <td>175000</td>\n",
       "      <td>9024</td>\n",
       "      <td>0.051566</td>\n",
       "    </tr>\n",
       "    <tr>\n",
       "      <th>HR</th>\n",
       "      <td>234000</td>\n",
       "      <td>12211</td>\n",
       "      <td>0.052184</td>\n",
       "    </tr>\n",
       "    <tr>\n",
       "      <th>NB</th>\n",
       "      <td>39705</td>\n",
       "      <td>1924</td>\n",
       "      <td>0.048457</td>\n",
       "    </tr>\n",
       "    <tr>\n",
       "      <th>YG</th>\n",
       "      <td>39685</td>\n",
       "      <td>4878</td>\n",
       "      <td>0.122918</td>\n",
       "    </tr>\n",
       "  </tbody>\n",
       "</table>\n",
       "</div>"
      ],
      "text/plain": [
       "           count    sum      mean\n",
       "customer                         \n",
       "DD        175000   9024  0.051566\n",
       "HR        234000  12211  0.052184\n",
       "NB         39705   1924  0.048457\n",
       "YG         39685   4878  0.122918"
      ]
     },
     "execution_count": 179,
     "metadata": {},
     "output_type": "execute_result"
    }
   ],
   "source": [
    "target_all.groupby('customer')['target'].agg(['count','sum','mean'])"
   ]
  },
  {
   "cell_type": "code",
   "execution_count": 180,
   "id": "d13f31b6-e733-49de-b58f-9dbc09434f74",
   "metadata": {},
   "outputs": [
    {
     "data": {
      "text/html": [
       "<div>\n",
       "<style scoped>\n",
       "    .dataframe tbody tr th:only-of-type {\n",
       "        vertical-align: middle;\n",
       "    }\n",
       "\n",
       "    .dataframe tbody tr th {\n",
       "        vertical-align: top;\n",
       "    }\n",
       "\n",
       "    .dataframe thead th {\n",
       "        text-align: right;\n",
       "    }\n",
       "</style>\n",
       "<table border=\"1\" class=\"dataframe\">\n",
       "  <thead>\n",
       "    <tr style=\"text-align: right;\">\n",
       "      <th></th>\n",
       "      <th>dataset</th>\n",
       "      <th>id_no</th>\n",
       "      <th>phone</th>\n",
       "      <th>date</th>\n",
       "      <th>target</th>\n",
       "      <th>customer</th>\n",
       "      <th>channel</th>\n",
       "      <th>encrypt</th>\n",
       "      <th>irr_type</th>\n",
       "    </tr>\n",
       "  </thead>\n",
       "  <tbody>\n",
       "    <tr>\n",
       "      <th>0</th>\n",
       "      <td>B</td>\n",
       "      <td>b58829676fbea04eaeeae56c454674ce39ab20406a7380...</td>\n",
       "      <td>b0a19689062d9f8d0293de9bc180baa8a58ae800f57189...</td>\n",
       "      <td>2024-03-25</td>\n",
       "      <td>0</td>\n",
       "      <td>DD</td>\n",
       "      <td>新客</td>\n",
       "      <td>SHA256</td>\n",
       "      <td>irr36</td>\n",
       "    </tr>\n",
       "    <tr>\n",
       "      <th>1</th>\n",
       "      <td>B</td>\n",
       "      <td>132921b6bde29486fafe3a83b4d19d5751fa0e1878bd48...</td>\n",
       "      <td>d282221b2909da4288ae2b7c4743fb7536b66bcd0a00ec...</td>\n",
       "      <td>2023-12-21</td>\n",
       "      <td>0</td>\n",
       "      <td>DD</td>\n",
       "      <td>新客</td>\n",
       "      <td>SHA256</td>\n",
       "      <td>irr36</td>\n",
       "    </tr>\n",
       "    <tr>\n",
       "      <th>2</th>\n",
       "      <td>B</td>\n",
       "      <td>18011c71b1001a2854923d7d0ceaeb02303451b7fdc8fe...</td>\n",
       "      <td>f991f0b30814e1abd0294b7745c3a180bb188198188018...</td>\n",
       "      <td>2023-08-16</td>\n",
       "      <td>0</td>\n",
       "      <td>DD</td>\n",
       "      <td>新客</td>\n",
       "      <td>SHA256</td>\n",
       "      <td>irr36</td>\n",
       "    </tr>\n",
       "    <tr>\n",
       "      <th>3</th>\n",
       "      <td>B</td>\n",
       "      <td>07fe4f828c5cf8fc7e44b175d3abf9367bed5620467bd0...</td>\n",
       "      <td>160978781420107f43f7e6ba57d9241d6e1d2447eeb303...</td>\n",
       "      <td>2023-12-04</td>\n",
       "      <td>0</td>\n",
       "      <td>DD</td>\n",
       "      <td>新客</td>\n",
       "      <td>SHA256</td>\n",
       "      <td>irr36</td>\n",
       "    </tr>\n",
       "    <tr>\n",
       "      <th>4</th>\n",
       "      <td>B</td>\n",
       "      <td>3c074449dc6568791e24267feeca479905fd1b1e214134...</td>\n",
       "      <td>7a5445ffb3f28f2b210f35f3c17ea7b444142aa6183b3f...</td>\n",
       "      <td>2024-03-03</td>\n",
       "      <td>1</td>\n",
       "      <td>DD</td>\n",
       "      <td>新客</td>\n",
       "      <td>SHA256</td>\n",
       "      <td>irr36</td>\n",
       "    </tr>\n",
       "  </tbody>\n",
       "</table>\n",
       "</div>"
      ],
      "text/plain": [
       "  dataset                                              id_no                                              phone        date  target customer channel encrypt irr_type\n",
       "0       B  b58829676fbea04eaeeae56c454674ce39ab20406a7380...  b0a19689062d9f8d0293de9bc180baa8a58ae800f57189...  2024-03-25       0       DD      新客  SHA256    irr36\n",
       "1       B  132921b6bde29486fafe3a83b4d19d5751fa0e1878bd48...  d282221b2909da4288ae2b7c4743fb7536b66bcd0a00ec...  2023-12-21       0       DD      新客  SHA256    irr36\n",
       "2       B  18011c71b1001a2854923d7d0ceaeb02303451b7fdc8fe...  f991f0b30814e1abd0294b7745c3a180bb188198188018...  2023-08-16       0       DD      新客  SHA256    irr36\n",
       "3       B  07fe4f828c5cf8fc7e44b175d3abf9367bed5620467bd0...  160978781420107f43f7e6ba57d9241d6e1d2447eeb303...  2023-12-04       0       DD      新客  SHA256    irr36\n",
       "4       B  3c074449dc6568791e24267feeca479905fd1b1e214134...  7a5445ffb3f28f2b210f35f3c17ea7b444142aa6183b3f...  2024-03-03       1       DD      新客  SHA256    irr36"
      ]
     },
     "execution_count": 180,
     "metadata": {},
     "output_type": "execute_result"
    }
   ],
   "source": [
    "target_all.head()"
   ]
  },
  {
   "cell_type": "code",
   "execution_count": 181,
   "id": "eceb7469-cf0b-452a-ac38-be59407ca6ee",
   "metadata": {},
   "outputs": [
    {
     "data": {
      "text/html": [
       "<div>\n",
       "<style scoped>\n",
       "    .dataframe tbody tr th:only-of-type {\n",
       "        vertical-align: middle;\n",
       "    }\n",
       "\n",
       "    .dataframe tbody tr th {\n",
       "        vertical-align: top;\n",
       "    }\n",
       "\n",
       "    .dataframe thead th {\n",
       "        text-align: right;\n",
       "    }\n",
       "</style>\n",
       "<table border=\"1\" class=\"dataframe\">\n",
       "  <thead>\n",
       "    <tr style=\"text-align: right;\">\n",
       "      <th></th>\n",
       "      <th></th>\n",
       "      <th>count</th>\n",
       "      <th>sum</th>\n",
       "      <th>mean</th>\n",
       "    </tr>\n",
       "    <tr>\n",
       "      <th>customer</th>\n",
       "      <th>channel</th>\n",
       "      <th></th>\n",
       "      <th></th>\n",
       "      <th></th>\n",
       "    </tr>\n",
       "  </thead>\n",
       "  <tbody>\n",
       "    <tr>\n",
       "      <th>DD</th>\n",
       "      <th>新客</th>\n",
       "      <td>175000</td>\n",
       "      <td>9024</td>\n",
       "      <td>0.051566</td>\n",
       "    </tr>\n",
       "    <tr>\n",
       "      <th rowspan=\"2\" valign=\"top\">HR</th>\n",
       "      <th>Hirr</th>\n",
       "      <td>100000</td>\n",
       "      <td>5719</td>\n",
       "      <td>0.057190</td>\n",
       "    </tr>\n",
       "    <tr>\n",
       "      <th>Lirr</th>\n",
       "      <td>134000</td>\n",
       "      <td>6492</td>\n",
       "      <td>0.048448</td>\n",
       "    </tr>\n",
       "    <tr>\n",
       "      <th>NB</th>\n",
       "      <th>字节</th>\n",
       "      <td>39705</td>\n",
       "      <td>1924</td>\n",
       "      <td>0.048457</td>\n",
       "    </tr>\n",
       "    <tr>\n",
       "      <th>YG</th>\n",
       "      <th>yqg</th>\n",
       "      <td>39685</td>\n",
       "      <td>4878</td>\n",
       "      <td>0.122918</td>\n",
       "    </tr>\n",
       "  </tbody>\n",
       "</table>\n",
       "</div>"
      ],
      "text/plain": [
       "                   count   sum      mean\n",
       "customer channel                        \n",
       "DD       新客       175000  9024  0.051566\n",
       "HR       Hirr     100000  5719  0.057190\n",
       "         Lirr     134000  6492  0.048448\n",
       "NB       字节        39705  1924  0.048457\n",
       "YG       yqg       39685  4878  0.122918"
      ]
     },
     "execution_count": 181,
     "metadata": {},
     "output_type": "execute_result"
    }
   ],
   "source": [
    "target_all['date'] = target_all['date'].apply(lambda x: str(x)[:10])\n",
    "#target_all = target_all[target_all['zy_mth'].fillna(0).eq(0)]\n",
    "#target_all['irr_type'] = target_all['customer'].apply(lambda x: 'irr14' if x in ['JX', 'NB'] else 'irr24' if x in ['DD','HR'] else 'irr36' if x in ['HC','LX','YG','YQG'] else None)\n",
    "\n",
    "target_all.groupby(['customer', 'channel'])['target'].agg(['count','sum','mean'])"
   ]
  },
  {
   "cell_type": "code",
   "execution_count": 182,
   "id": "b4d137a5-fbff-4d11-b6f7-604107844b17",
   "metadata": {},
   "outputs": [
    {
     "data": {
      "text/plain": [
       "0   2024-03-25\n",
       "1   2023-12-21\n",
       "2   2023-08-16\n",
       "3   2023-12-04\n",
       "4   2024-03-03\n",
       "Name: date, dtype: datetime64[ns]"
      ]
     },
     "execution_count": 182,
     "metadata": {},
     "output_type": "execute_result"
    }
   ],
   "source": [
    "target_all['date'] = (\n",
    "    pd.to_datetime(target_all['date'], errors='coerce')\n",
    ")\n",
    "target_all['date'].head()"
   ]
  },
  {
   "cell_type": "code",
   "execution_count": 183,
   "id": "27310584",
   "metadata": {},
   "outputs": [
    {
     "data": {
      "text/plain": [
       "np.int64(0)"
      ]
     },
     "execution_count": 183,
     "metadata": {},
     "output_type": "execute_result"
    }
   ],
   "source": [
    "target_all['phone'].duplicated().sum()"
   ]
  },
  {
   "cell_type": "code",
   "execution_count": 202,
   "id": "5d45c6e7-fb08-408a-b466-9eab71b84b3f",
   "metadata": {},
   "outputs": [],
   "source": [
    "## 读取返回数据\n",
    "raw_result=pd.read_csv(r\"D:\\work\\测评\\飞鸟\\上海路诚测试样本_jktrack结果返回_20250725\\上海路诚测试样本_jktrack结果返回_20250725\\上海路诚样本_jktrack结果返回_20250725.csv\")"
   ]
  },
  {
   "cell_type": "code",
   "execution_count": 203,
   "id": "a47dcf3f-7853-4450-8a3d-3c82577b8941",
   "metadata": {},
   "outputs": [
    {
     "data": {
      "text/plain": [
       "0    20231128\n",
       "1    20231209\n",
       "2    20240209\n",
       "3    20231102\n",
       "4    20231125\n",
       "Name: date, dtype: object"
      ]
     },
     "execution_count": 203,
     "metadata": {},
     "output_type": "execute_result"
    }
   ],
   "source": [
    "raw_result['date'] = (\n",
    "    pd.to_datetime(raw_result['date'], errors='coerce')\n",
    "    .dt.strftime('%Y%m%d')\n",
    ")\n",
    "raw_result['date'].head()"
   ]
  },
  {
   "cell_type": "code",
   "execution_count": 204,
   "id": "f9ce0713-7bd6-4aa1-937a-6af48114cb66",
   "metadata": {},
   "outputs": [],
   "source": [
    "raw_result['date'] = raw_result['date'].apply(lambda x : str(x).replace('-',''))"
   ]
  },
  {
   "cell_type": "code",
   "execution_count": 205,
   "id": "0baa760c-c40e-43a8-8994-2d13d847efc2",
   "metadata": {},
   "outputs": [
    {
     "data": {
      "text/plain": [
       "0    20231128\n",
       "1    20231209\n",
       "Name: date, dtype: object"
      ]
     },
     "execution_count": 205,
     "metadata": {},
     "output_type": "execute_result"
    }
   ],
   "source": [
    "raw_result['date'].head(2)"
   ]
  },
  {
   "cell_type": "code",
   "execution_count": 206,
   "id": "aeaf64ee-fc22-401d-a5c9-5b395f270c22",
   "metadata": {},
   "outputs": [],
   "source": [
    "target_all['phone'] = target_all['phone'].astype(str).str.strip()\n",
    "raw_result['phone'] = raw_result['phone'].astype(str).str.strip()\n",
    "target_all['phone'] = target_all['phone'].str.lower()\n",
    "raw_result['phone'] = raw_result['phone'].str.lower()"
   ]
  },
  {
   "cell_type": "code",
   "execution_count": 187,
   "id": "5785d8d8-d6ab-45d4-af8d-686a38f0daf5",
   "metadata": {},
   "outputs": [],
   "source": [
    "mapping_phone=pd.read_csv(r\"D:\\work\\测评\\飞鸟\\样本ID映射关系更新.csv\")"
   ]
  },
  {
   "cell_type": "code",
   "execution_count": 264,
   "id": "e8e349fb-94c1-411d-8e30-399728e8e06b",
   "metadata": {},
   "outputs": [
    {
     "name": "stdout",
     "output_type": "stream",
     "text": [
      "(488390, 9)\n"
     ]
    }
   ],
   "source": [
    "print(target_all.shape)"
   ]
  },
  {
   "cell_type": "code",
   "execution_count": 207,
   "id": "f24bf3f2-32b0-4b55-bfee-644b05a158d4",
   "metadata": {},
   "outputs": [
    {
     "data": {
      "text/plain": [
       "0    20231216\n",
       "1    20231216\n",
       "2    20240209\n",
       "3    20231124\n",
       "4    20240110\n",
       "Name: date, dtype: object"
      ]
     },
     "execution_count": 207,
     "metadata": {},
     "output_type": "execute_result"
    }
   ],
   "source": [
    "mapping_phone['phone'] = mapping_phone['phone'].astype(str).str.strip()\n",
    "mapping_phone['date'] = (\n",
    "    pd.to_datetime(mapping_phone['date'], errors='coerce')\n",
    "    .dt.strftime('%Y%m%d')\n",
    ")\n",
    "mapping_phone['date'].head()"
   ]
  },
  {
   "cell_type": "code",
   "execution_count": 208,
   "id": "c90c9c37-27ed-433f-9a84-33528713d68b",
   "metadata": {},
   "outputs": [],
   "source": [
    "mapping_phone.drop_duplicates(subset=['uuid','date'],inplace=True)\n",
    "raw_result.drop_duplicates(subset=['uuid','date'],inplace=True)"
   ]
  },
  {
   "cell_type": "code",
   "execution_count": 209,
   "id": "f21109b9-7b6b-4726-bed7-5ef8e7d7f782",
   "metadata": {},
   "outputs": [],
   "source": [
    "score_fn=mapping_phone.merge(raw_result,on=['uuid','date'],how='left')"
   ]
  },
  {
   "cell_type": "code",
   "execution_count": 210,
   "id": "c4ec7de7-1879-4721-9f98-39382a9aeeb9",
   "metadata": {
    "jupyter": {
     "source_hidden": true
    }
   },
   "outputs": [],
   "source": [
    "score_fn.drop(columns=['phone_y','encrypt_y','uuid'],inplace=True)"
   ]
  },
  {
   "cell_type": "code",
   "execution_count": 211,
   "id": "b9c2ca26-c7f3-49b1-b4c8-16ac7250a921",
   "metadata": {},
   "outputs": [],
   "source": [
    "score_fn.rename(columns={'phone_x':'phone','encrypt_x':'encrypt'},inplace=True)"
   ]
  },
  {
   "cell_type": "code",
   "execution_count": 212,
   "id": "69423901-2bcc-4748-a762-602ca7a29db0",
   "metadata": {},
   "outputs": [
    {
     "data": {
      "text/html": [
       "<div>\n",
       "<style scoped>\n",
       "    .dataframe tbody tr th:only-of-type {\n",
       "        vertical-align: middle;\n",
       "    }\n",
       "\n",
       "    .dataframe tbody tr th {\n",
       "        vertical-align: top;\n",
       "    }\n",
       "\n",
       "    .dataframe thead th {\n",
       "        text-align: right;\n",
       "    }\n",
       "</style>\n",
       "<table border=\"1\" class=\"dataframe\">\n",
       "  <thead>\n",
       "    <tr style=\"text-align: right;\">\n",
       "      <th></th>\n",
       "      <th>phone</th>\n",
       "      <th>date</th>\n",
       "      <th>encrypt</th>\n",
       "      <th>residence_city</th>\n",
       "      <th>level_code</th>\n",
       "      <th>level_name</th>\n",
       "      <th>poi_1466_visitDays_cnt_30d</th>\n",
       "      <th>poi_1466_visitDays_cnt_90d</th>\n",
       "      <th>poi_1466_visitDays_cnt_180d</th>\n",
       "      <th>poi_1466_visitPoi_cnt_30d</th>\n",
       "      <th>poi_1466_visitPoi_cnt_90d</th>\n",
       "      <th>poi_1466_visitPoi_cnt_180d</th>\n",
       "      <th>poi_1466_visitTime_dayavg_30d</th>\n",
       "      <th>poi_1466_visitTime_dayavg_90d</th>\n",
       "      <th>poi_1466_visitTime_dayavg_180d</th>\n",
       "      <th>poi_698_visitDays_cnt_30d</th>\n",
       "      <th>poi_698_visitDays_cnt_90d</th>\n",
       "      <th>poi_698_visitDays_cnt_180d</th>\n",
       "      <th>poi_698_visitPoi_cnt_30d</th>\n",
       "      <th>poi_698_visitPoi_cnt_90d</th>\n",
       "      <th>poi_698_visitPoi_cnt_180d</th>\n",
       "      <th>poi_698_visitTime_dayavg_30d</th>\n",
       "      <th>poi_698_visitTime_dayavg_90d</th>\n",
       "      <th>poi_698_visitTime_dayavg_180d</th>\n",
       "      <th>poi_1463_visitDays_cnt_30d</th>\n",
       "      <th>poi_1463_visitDays_cnt_90d</th>\n",
       "      <th>poi_1463_visitDays_cnt_180d</th>\n",
       "      <th>poi_1463_visitPoi_cnt_30d</th>\n",
       "      <th>poi_1463_visitPoi_cnt_90d</th>\n",
       "      <th>poi_1463_visitPoi_cnt_180d</th>\n",
       "      <th>poi_1463_visitTime_dayavg_30d</th>\n",
       "      <th>poi_1463_visitTime_dayavg_90d</th>\n",
       "      <th>poi_1463_visitTime_dayavg_180d</th>\n",
       "      <th>poi_191_visitDays_cnt_30d</th>\n",
       "      <th>poi_191_visitDays_cnt_90d</th>\n",
       "      <th>poi_191_visitDays_cnt_180d</th>\n",
       "      <th>poi_191_visitPoi_cnt_30d</th>\n",
       "      <th>poi_191_visitPoi_cnt_90d</th>\n",
       "      <th>poi_191_visitPoi_cnt_180d</th>\n",
       "      <th>poi_191_visitTime_dayavg_30d</th>\n",
       "      <th>poi_191_visitTime_dayavg_90d</th>\n",
       "      <th>poi_191_visitTime_dayavg_180d</th>\n",
       "      <th>poi_113_visitDays_cnt_30d</th>\n",
       "      <th>poi_113_visitDays_cnt_90d</th>\n",
       "      <th>poi_113_visitDays_cnt_180d</th>\n",
       "      <th>poi_113_visitPoi_cnt_30d</th>\n",
       "      <th>poi_113_visitPoi_cnt_90d</th>\n",
       "      <th>poi_113_visitPoi_cnt_180d</th>\n",
       "      <th>poi_113_visitTime_dayavg_30d</th>\n",
       "      <th>poi_113_visitTime_dayavg_90d</th>\n",
       "      <th>poi_113_visitTime_dayavg_180d</th>\n",
       "      <th>poi_100_visitDays_cnt_30d</th>\n",
       "      <th>poi_100_visitDays_cnt_90d</th>\n",
       "      <th>poi_100_visitDays_cnt_180d</th>\n",
       "      <th>poi_100_visitPoi_cnt_30d</th>\n",
       "      <th>poi_100_visitPoi_cnt_90d</th>\n",
       "      <th>poi_100_visitPoi_cnt_180d</th>\n",
       "      <th>poi_100_visitTime_dayavg_30d</th>\n",
       "      <th>poi_100_visitTime_dayavg_90d</th>\n",
       "      <th>poi_100_visitTime_dayavg_180d</th>\n",
       "      <th>poi_1506_visitDays_cnt_30d</th>\n",
       "      <th>poi_1506_visitDays_cnt_90d</th>\n",
       "      <th>poi_1506_visitDays_cnt_180d</th>\n",
       "      <th>poi_1506_visitPoi_cnt_30d</th>\n",
       "      <th>poi_1506_visitPoi_cnt_90d</th>\n",
       "      <th>poi_1506_visitPoi_cnt_180d</th>\n",
       "      <th>poi_1506_visitTime_dayavg_30d</th>\n",
       "      <th>poi_1506_visitTime_dayavg_90d</th>\n",
       "      <th>poi_1506_visitTime_dayavg_180d</th>\n",
       "      <th>poi_142_visitDays_cnt_30d</th>\n",
       "      <th>poi_142_visitDays_cnt_90d</th>\n",
       "      <th>poi_142_visitDays_cnt_180d</th>\n",
       "      <th>poi_142_visitPoi_cnt_30d</th>\n",
       "      <th>poi_142_visitPoi_cnt_90d</th>\n",
       "      <th>poi_142_visitPoi_cnt_180d</th>\n",
       "      <th>poi_142_visitTime_dayavg_30d</th>\n",
       "      <th>poi_142_visitTime_dayavg_90d</th>\n",
       "      <th>poi_142_visitTime_dayavg_180d</th>\n",
       "      <th>poi_104_visitDays_cnt_30d</th>\n",
       "      <th>poi_104_visitDays_cnt_90d</th>\n",
       "      <th>poi_104_visitDays_cnt_180d</th>\n",
       "      <th>poi_104_visitPoi_cnt_30d</th>\n",
       "      <th>poi_104_visitPoi_cnt_90d</th>\n",
       "      <th>poi_104_visitPoi_cnt_180d</th>\n",
       "      <th>poi_104_visitTime_dayavg_30d</th>\n",
       "      <th>poi_104_visitTime_dayavg_90d</th>\n",
       "      <th>poi_104_visitTime_dayavg_180d</th>\n",
       "      <th>poi_1521_visitDays_cnt_30d</th>\n",
       "      <th>poi_1521_visitDays_cnt_90d</th>\n",
       "      <th>poi_1521_visitDays_cnt_180d</th>\n",
       "      <th>poi_1521_visitPoi_cnt_30d</th>\n",
       "      <th>poi_1521_visitPoi_cnt_90d</th>\n",
       "      <th>poi_1521_visitPoi_cnt_180d</th>\n",
       "      <th>poi_1521_visitTime_dayavg_30d</th>\n",
       "      <th>poi_1521_visitTime_dayavg_90d</th>\n",
       "      <th>poi_1521_visitTime_dayavg_180d</th>\n",
       "      <th>poi_1467_visitDays_cnt_30d</th>\n",
       "      <th>poi_1467_visitDays_cnt_90d</th>\n",
       "      <th>poi_1467_visitDays_cnt_180d</th>\n",
       "      <th>poi_1467_visitPoi_cnt_30d</th>\n",
       "      <th>...</th>\n",
       "      <th>poi_10_visitTime_dayavg_180d</th>\n",
       "      <th>poi_35_visitDays_cnt_30d</th>\n",
       "      <th>poi_35_visitDays_cnt_90d</th>\n",
       "      <th>poi_35_visitDays_cnt_180d</th>\n",
       "      <th>poi_35_visitPoi_cnt_30d</th>\n",
       "      <th>poi_35_visitPoi_cnt_90d</th>\n",
       "      <th>poi_35_visitPoi_cnt_180d</th>\n",
       "      <th>poi_35_visitTime_dayavg_30d</th>\n",
       "      <th>poi_35_visitTime_dayavg_90d</th>\n",
       "      <th>poi_35_visitTime_dayavg_180d</th>\n",
       "      <th>poi_45_visitDays_cnt_30d</th>\n",
       "      <th>poi_45_visitDays_cnt_90d</th>\n",
       "      <th>poi_45_visitDays_cnt_180d</th>\n",
       "      <th>poi_45_visitPoi_cnt_30d</th>\n",
       "      <th>poi_45_visitPoi_cnt_90d</th>\n",
       "      <th>poi_45_visitPoi_cnt_180d</th>\n",
       "      <th>poi_45_visitTime_dayavg_30d</th>\n",
       "      <th>poi_45_visitTime_dayavg_90d</th>\n",
       "      <th>poi_45_visitTime_dayavg_180d</th>\n",
       "      <th>poi_25_visitDays_cnt_30d</th>\n",
       "      <th>poi_25_visitDays_cnt_90d</th>\n",
       "      <th>poi_25_visitDays_cnt_180d</th>\n",
       "      <th>poi_25_visitPoi_cnt_30d</th>\n",
       "      <th>poi_25_visitPoi_cnt_90d</th>\n",
       "      <th>poi_25_visitPoi_cnt_180d</th>\n",
       "      <th>poi_25_visitTime_dayavg_30d</th>\n",
       "      <th>poi_25_visitTime_dayavg_90d</th>\n",
       "      <th>poi_25_visitTime_dayavg_180d</th>\n",
       "      <th>poi_75_visitDays_cnt_30d</th>\n",
       "      <th>poi_75_visitDays_cnt_90d</th>\n",
       "      <th>poi_75_visitDays_cnt_180d</th>\n",
       "      <th>poi_75_visitPoi_cnt_30d</th>\n",
       "      <th>poi_75_visitPoi_cnt_90d</th>\n",
       "      <th>poi_75_visitPoi_cnt_180d</th>\n",
       "      <th>poi_75_visitTime_dayavg_30d</th>\n",
       "      <th>poi_75_visitTime_dayavg_90d</th>\n",
       "      <th>poi_75_visitTime_dayavg_180d</th>\n",
       "      <th>poi_50_visitDays_cnt_30d</th>\n",
       "      <th>poi_50_visitDays_cnt_90d</th>\n",
       "      <th>poi_50_visitDays_cnt_180d</th>\n",
       "      <th>poi_50_visitPoi_cnt_30d</th>\n",
       "      <th>poi_50_visitPoi_cnt_90d</th>\n",
       "      <th>poi_50_visitPoi_cnt_180d</th>\n",
       "      <th>poi_50_visitTime_dayavg_30d</th>\n",
       "      <th>poi_50_visitTime_dayavg_90d</th>\n",
       "      <th>poi_50_visitTime_dayavg_180d</th>\n",
       "      <th>poi_40_visitDays_cnt_30d</th>\n",
       "      <th>poi_40_visitDays_cnt_90d</th>\n",
       "      <th>poi_40_visitDays_cnt_180d</th>\n",
       "      <th>poi_40_visitPoi_cnt_30d</th>\n",
       "      <th>poi_40_visitPoi_cnt_90d</th>\n",
       "      <th>poi_40_visitPoi_cnt_180d</th>\n",
       "      <th>poi_40_visitTime_dayavg_30d</th>\n",
       "      <th>poi_40_visitTime_dayavg_90d</th>\n",
       "      <th>poi_40_visitTime_dayavg_180d</th>\n",
       "      <th>poi_60_visitDays_cnt_30d</th>\n",
       "      <th>poi_60_visitDays_cnt_90d</th>\n",
       "      <th>poi_60_visitDays_cnt_180d</th>\n",
       "      <th>poi_60_visitPoi_cnt_30d</th>\n",
       "      <th>poi_60_visitPoi_cnt_90d</th>\n",
       "      <th>poi_60_visitPoi_cnt_180d</th>\n",
       "      <th>poi_60_visitTime_dayavg_30d</th>\n",
       "      <th>poi_60_visitTime_dayavg_90d</th>\n",
       "      <th>poi_60_visitTime_dayavg_180d</th>\n",
       "      <th>poi_541_visitDays_cnt_30d</th>\n",
       "      <th>poi_541_visitDays_cnt_90d</th>\n",
       "      <th>poi_541_visitDays_cnt_180d</th>\n",
       "      <th>poi_541_visitPoi_cnt_30d</th>\n",
       "      <th>poi_541_visitPoi_cnt_90d</th>\n",
       "      <th>poi_541_visitPoi_cnt_180d</th>\n",
       "      <th>poi_541_visitTime_dayavg_30d</th>\n",
       "      <th>poi_541_visitTime_dayavg_90d</th>\n",
       "      <th>poi_541_visitTime_dayavg_180d</th>\n",
       "      <th>poi_15_visitDays_cnt_30d</th>\n",
       "      <th>poi_15_visitDays_cnt_90d</th>\n",
       "      <th>poi_15_visitDays_cnt_180d</th>\n",
       "      <th>poi_15_visitPoi_cnt_30d</th>\n",
       "      <th>poi_15_visitPoi_cnt_90d</th>\n",
       "      <th>poi_15_visitPoi_cnt_180d</th>\n",
       "      <th>poi_15_visitTime_dayavg_30d</th>\n",
       "      <th>poi_15_visitTime_dayavg_90d</th>\n",
       "      <th>poi_15_visitTime_dayavg_180d</th>\n",
       "      <th>poi_30_visitDays_cnt_30d</th>\n",
       "      <th>poi_30_visitDays_cnt_90d</th>\n",
       "      <th>poi_30_visitDays_cnt_180d</th>\n",
       "      <th>poi_30_visitPoi_cnt_30d</th>\n",
       "      <th>poi_30_visitPoi_cnt_90d</th>\n",
       "      <th>poi_30_visitPoi_cnt_180d</th>\n",
       "      <th>poi_30_visitTime_dayavg_30d</th>\n",
       "      <th>poi_30_visitTime_dayavg_90d</th>\n",
       "      <th>poi_30_visitTime_dayavg_180d</th>\n",
       "      <th>poi_55_visitDays_cnt_30d</th>\n",
       "      <th>poi_55_visitDays_cnt_90d</th>\n",
       "      <th>poi_55_visitDays_cnt_180d</th>\n",
       "      <th>poi_55_visitPoi_cnt_30d</th>\n",
       "      <th>poi_55_visitPoi_cnt_90d</th>\n",
       "      <th>poi_55_visitPoi_cnt_180d</th>\n",
       "      <th>poi_55_visitTime_dayavg_30d</th>\n",
       "      <th>poi_55_visitTime_dayavg_90d</th>\n",
       "      <th>poi_55_visitTime_dayavg_180d</th>\n",
       "    </tr>\n",
       "  </thead>\n",
       "  <tbody>\n",
       "    <tr>\n",
       "      <th>0</th>\n",
       "      <td>896f151d437381404a07bec18b60d0e1</td>\n",
       "      <td>20231216</td>\n",
       "      <td>MD5</td>\n",
       "      <td>济宁市</td>\n",
       "      <td>3.0</td>\n",
       "      <td>三线</td>\n",
       "      <td>0</td>\n",
       "      <td>1</td>\n",
       "      <td>1</td>\n",
       "      <td>0</td>\n",
       "      <td>1</td>\n",
       "      <td>1</td>\n",
       "      <td>0</td>\n",
       "      <td>1841</td>\n",
       "      <td>1841</td>\n",
       "      <td>0</td>\n",
       "      <td>0</td>\n",
       "      <td>0</td>\n",
       "      <td>0</td>\n",
       "      <td>0</td>\n",
       "      <td>0</td>\n",
       "      <td>0</td>\n",
       "      <td>0</td>\n",
       "      <td>0</td>\n",
       "      <td>0</td>\n",
       "      <td>0</td>\n",
       "      <td>0</td>\n",
       "      <td>0</td>\n",
       "      <td>0</td>\n",
       "      <td>0</td>\n",
       "      <td>0</td>\n",
       "      <td>0</td>\n",
       "      <td>0</td>\n",
       "      <td>0</td>\n",
       "      <td>0</td>\n",
       "      <td>0</td>\n",
       "      <td>0</td>\n",
       "      <td>0</td>\n",
       "      <td>0</td>\n",
       "      <td>0</td>\n",
       "      <td>0</td>\n",
       "      <td>0</td>\n",
       "      <td>0</td>\n",
       "      <td>0</td>\n",
       "      <td>0</td>\n",
       "      <td>0</td>\n",
       "      <td>0</td>\n",
       "      <td>0</td>\n",
       "      <td>0</td>\n",
       "      <td>0</td>\n",
       "      <td>0</td>\n",
       "      <td>5</td>\n",
       "      <td>6</td>\n",
       "      <td>6</td>\n",
       "      <td>1</td>\n",
       "      <td>1</td>\n",
       "      <td>1</td>\n",
       "      <td>1642</td>\n",
       "      <td>1740</td>\n",
       "      <td>1740</td>\n",
       "      <td>0</td>\n",
       "      <td>0</td>\n",
       "      <td>0</td>\n",
       "      <td>0</td>\n",
       "      <td>0</td>\n",
       "      <td>0</td>\n",
       "      <td>0</td>\n",
       "      <td>0</td>\n",
       "      <td>0</td>\n",
       "      <td>1</td>\n",
       "      <td>1</td>\n",
       "      <td>1</td>\n",
       "      <td>1</td>\n",
       "      <td>1</td>\n",
       "      <td>1</td>\n",
       "      <td>2494</td>\n",
       "      <td>2494</td>\n",
       "      <td>2494</td>\n",
       "      <td>0</td>\n",
       "      <td>0</td>\n",
       "      <td>0</td>\n",
       "      <td>0</td>\n",
       "      <td>0</td>\n",
       "      <td>0</td>\n",
       "      <td>0</td>\n",
       "      <td>0</td>\n",
       "      <td>0</td>\n",
       "      <td>0</td>\n",
       "      <td>0</td>\n",
       "      <td>0</td>\n",
       "      <td>0</td>\n",
       "      <td>0</td>\n",
       "      <td>0</td>\n",
       "      <td>0</td>\n",
       "      <td>0</td>\n",
       "      <td>0</td>\n",
       "      <td>0</td>\n",
       "      <td>1</td>\n",
       "      <td>1</td>\n",
       "      <td>0</td>\n",
       "      <td>...</td>\n",
       "      <td>1591</td>\n",
       "      <td>0</td>\n",
       "      <td>0</td>\n",
       "      <td>0</td>\n",
       "      <td>0</td>\n",
       "      <td>0</td>\n",
       "      <td>0</td>\n",
       "      <td>0</td>\n",
       "      <td>0</td>\n",
       "      <td>0</td>\n",
       "      <td>1</td>\n",
       "      <td>1</td>\n",
       "      <td>1</td>\n",
       "      <td>1</td>\n",
       "      <td>1</td>\n",
       "      <td>1</td>\n",
       "      <td>2494</td>\n",
       "      <td>2494</td>\n",
       "      <td>2494</td>\n",
       "      <td>0</td>\n",
       "      <td>0</td>\n",
       "      <td>0</td>\n",
       "      <td>0</td>\n",
       "      <td>0</td>\n",
       "      <td>0</td>\n",
       "      <td>0</td>\n",
       "      <td>0</td>\n",
       "      <td>0</td>\n",
       "      <td>0</td>\n",
       "      <td>0</td>\n",
       "      <td>0</td>\n",
       "      <td>0</td>\n",
       "      <td>0</td>\n",
       "      <td>0</td>\n",
       "      <td>0</td>\n",
       "      <td>0</td>\n",
       "      <td>0</td>\n",
       "      <td>0</td>\n",
       "      <td>0</td>\n",
       "      <td>0</td>\n",
       "      <td>0</td>\n",
       "      <td>0</td>\n",
       "      <td>0</td>\n",
       "      <td>0</td>\n",
       "      <td>0</td>\n",
       "      <td>0</td>\n",
       "      <td>0</td>\n",
       "      <td>0</td>\n",
       "      <td>0</td>\n",
       "      <td>0</td>\n",
       "      <td>0</td>\n",
       "      <td>0</td>\n",
       "      <td>0</td>\n",
       "      <td>0</td>\n",
       "      <td>0</td>\n",
       "      <td>0</td>\n",
       "      <td>0</td>\n",
       "      <td>0</td>\n",
       "      <td>0</td>\n",
       "      <td>0</td>\n",
       "      <td>0</td>\n",
       "      <td>0</td>\n",
       "      <td>0</td>\n",
       "      <td>0</td>\n",
       "      <td>0</td>\n",
       "      <td>0</td>\n",
       "      <td>0</td>\n",
       "      <td>0</td>\n",
       "      <td>0</td>\n",
       "      <td>0</td>\n",
       "      <td>0</td>\n",
       "      <td>0</td>\n",
       "      <td>0</td>\n",
       "      <td>0</td>\n",
       "      <td>0</td>\n",
       "      <td>0</td>\n",
       "      <td>0</td>\n",
       "      <td>0</td>\n",
       "      <td>0</td>\n",
       "      <td>0</td>\n",
       "      <td>0</td>\n",
       "      <td>0</td>\n",
       "      <td>0</td>\n",
       "      <td>0</td>\n",
       "      <td>0</td>\n",
       "      <td>0</td>\n",
       "      <td>0</td>\n",
       "      <td>0</td>\n",
       "      <td>0</td>\n",
       "      <td>0</td>\n",
       "      <td>0</td>\n",
       "      <td>0</td>\n",
       "      <td>0</td>\n",
       "      <td>0</td>\n",
       "      <td>0</td>\n",
       "      <td>0</td>\n",
       "      <td>0</td>\n",
       "      <td>0</td>\n",
       "      <td>0</td>\n",
       "      <td>0</td>\n",
       "    </tr>\n",
       "    <tr>\n",
       "      <th>1</th>\n",
       "      <td>91fedf37f3c5fa6e9f79c433bb909d24</td>\n",
       "      <td>20231216</td>\n",
       "      <td>MD5</td>\n",
       "      <td>泸州市</td>\n",
       "      <td>4.0</td>\n",
       "      <td>四线</td>\n",
       "      <td>12</td>\n",
       "      <td>32</td>\n",
       "      <td>32</td>\n",
       "      <td>8</td>\n",
       "      <td>24</td>\n",
       "      <td>24</td>\n",
       "      <td>5554</td>\n",
       "      <td>3305</td>\n",
       "      <td>3305</td>\n",
       "      <td>6</td>\n",
       "      <td>12</td>\n",
       "      <td>12</td>\n",
       "      <td>4</td>\n",
       "      <td>9</td>\n",
       "      <td>9</td>\n",
       "      <td>308</td>\n",
       "      <td>1014</td>\n",
       "      <td>1014</td>\n",
       "      <td>8</td>\n",
       "      <td>10</td>\n",
       "      <td>10</td>\n",
       "      <td>1</td>\n",
       "      <td>3</td>\n",
       "      <td>3</td>\n",
       "      <td>18034</td>\n",
       "      <td>14458</td>\n",
       "      <td>14458</td>\n",
       "      <td>2</td>\n",
       "      <td>5</td>\n",
       "      <td>5</td>\n",
       "      <td>3</td>\n",
       "      <td>9</td>\n",
       "      <td>9</td>\n",
       "      <td>196</td>\n",
       "      <td>1234</td>\n",
       "      <td>1234</td>\n",
       "      <td>7</td>\n",
       "      <td>14</td>\n",
       "      <td>14</td>\n",
       "      <td>6</td>\n",
       "      <td>11</td>\n",
       "      <td>11</td>\n",
       "      <td>318</td>\n",
       "      <td>561</td>\n",
       "      <td>561</td>\n",
       "      <td>11</td>\n",
       "      <td>28</td>\n",
       "      <td>28</td>\n",
       "      <td>12</td>\n",
       "      <td>33</td>\n",
       "      <td>33</td>\n",
       "      <td>2305</td>\n",
       "      <td>3452</td>\n",
       "      <td>3452</td>\n",
       "      <td>5</td>\n",
       "      <td>11</td>\n",
       "      <td>11</td>\n",
       "      <td>4</td>\n",
       "      <td>11</td>\n",
       "      <td>11</td>\n",
       "      <td>4421</td>\n",
       "      <td>3034</td>\n",
       "      <td>3034</td>\n",
       "      <td>1</td>\n",
       "      <td>2</td>\n",
       "      <td>2</td>\n",
       "      <td>1</td>\n",
       "      <td>2</td>\n",
       "      <td>2</td>\n",
       "      <td>190</td>\n",
       "      <td>104</td>\n",
       "      <td>104</td>\n",
       "      <td>7</td>\n",
       "      <td>21</td>\n",
       "      <td>21</td>\n",
       "      <td>8</td>\n",
       "      <td>15</td>\n",
       "      <td>15</td>\n",
       "      <td>1626</td>\n",
       "      <td>1320</td>\n",
       "      <td>1320</td>\n",
       "      <td>1</td>\n",
       "      <td>4</td>\n",
       "      <td>4</td>\n",
       "      <td>1</td>\n",
       "      <td>4</td>\n",
       "      <td>4</td>\n",
       "      <td>124</td>\n",
       "      <td>310</td>\n",
       "      <td>310</td>\n",
       "      <td>6</td>\n",
       "      <td>7</td>\n",
       "      <td>7</td>\n",
       "      <td>4</td>\n",
       "      <td>...</td>\n",
       "      <td>5283</td>\n",
       "      <td>7</td>\n",
       "      <td>24</td>\n",
       "      <td>24</td>\n",
       "      <td>9</td>\n",
       "      <td>28</td>\n",
       "      <td>28</td>\n",
       "      <td>7975</td>\n",
       "      <td>9765</td>\n",
       "      <td>9765</td>\n",
       "      <td>3</td>\n",
       "      <td>6</td>\n",
       "      <td>6</td>\n",
       "      <td>3</td>\n",
       "      <td>6</td>\n",
       "      <td>6</td>\n",
       "      <td>386</td>\n",
       "      <td>1773</td>\n",
       "      <td>1773</td>\n",
       "      <td>16</td>\n",
       "      <td>34</td>\n",
       "      <td>34</td>\n",
       "      <td>11</td>\n",
       "      <td>22</td>\n",
       "      <td>22</td>\n",
       "      <td>2133</td>\n",
       "      <td>2324</td>\n",
       "      <td>2324</td>\n",
       "      <td>8</td>\n",
       "      <td>21</td>\n",
       "      <td>21</td>\n",
       "      <td>9</td>\n",
       "      <td>25</td>\n",
       "      <td>25</td>\n",
       "      <td>4015</td>\n",
       "      <td>5902</td>\n",
       "      <td>5902</td>\n",
       "      <td>16</td>\n",
       "      <td>42</td>\n",
       "      <td>42</td>\n",
       "      <td>14</td>\n",
       "      <td>26</td>\n",
       "      <td>26</td>\n",
       "      <td>1198</td>\n",
       "      <td>18096</td>\n",
       "      <td>18096</td>\n",
       "      <td>0</td>\n",
       "      <td>0</td>\n",
       "      <td>0</td>\n",
       "      <td>0</td>\n",
       "      <td>0</td>\n",
       "      <td>0</td>\n",
       "      <td>0</td>\n",
       "      <td>0</td>\n",
       "      <td>0</td>\n",
       "      <td>0</td>\n",
       "      <td>4</td>\n",
       "      <td>4</td>\n",
       "      <td>0</td>\n",
       "      <td>4</td>\n",
       "      <td>4</td>\n",
       "      <td>0</td>\n",
       "      <td>2385</td>\n",
       "      <td>2385</td>\n",
       "      <td>4</td>\n",
       "      <td>12</td>\n",
       "      <td>12</td>\n",
       "      <td>4</td>\n",
       "      <td>8</td>\n",
       "      <td>8</td>\n",
       "      <td>331</td>\n",
       "      <td>1215</td>\n",
       "      <td>1215</td>\n",
       "      <td>7</td>\n",
       "      <td>25</td>\n",
       "      <td>25</td>\n",
       "      <td>6</td>\n",
       "      <td>16</td>\n",
       "      <td>16</td>\n",
       "      <td>9186</td>\n",
       "      <td>18730</td>\n",
       "      <td>18730</td>\n",
       "      <td>3</td>\n",
       "      <td>7</td>\n",
       "      <td>7</td>\n",
       "      <td>2</td>\n",
       "      <td>2</td>\n",
       "      <td>2</td>\n",
       "      <td>2025</td>\n",
       "      <td>2499</td>\n",
       "      <td>2499</td>\n",
       "      <td>10</td>\n",
       "      <td>14</td>\n",
       "      <td>14</td>\n",
       "      <td>6</td>\n",
       "      <td>17</td>\n",
       "      <td>17</td>\n",
       "      <td>1972</td>\n",
       "      <td>3256</td>\n",
       "      <td>3256</td>\n",
       "    </tr>\n",
       "  </tbody>\n",
       "</table>\n",
       "<p>2 rows × 1212 columns</p>\n",
       "</div>"
      ],
      "text/plain": [
       "                              phone      date encrypt residence_city  level_code level_name  poi_1466_visitDays_cnt_30d  poi_1466_visitDays_cnt_90d  poi_1466_visitDays_cnt_180d  poi_1466_visitPoi_cnt_30d  poi_1466_visitPoi_cnt_90d  poi_1466_visitPoi_cnt_180d  poi_1466_visitTime_dayavg_30d  poi_1466_visitTime_dayavg_90d  poi_1466_visitTime_dayavg_180d  poi_698_visitDays_cnt_30d  poi_698_visitDays_cnt_90d  poi_698_visitDays_cnt_180d  poi_698_visitPoi_cnt_30d  poi_698_visitPoi_cnt_90d  poi_698_visitPoi_cnt_180d  poi_698_visitTime_dayavg_30d  poi_698_visitTime_dayavg_90d  poi_698_visitTime_dayavg_180d  poi_1463_visitDays_cnt_30d  poi_1463_visitDays_cnt_90d  poi_1463_visitDays_cnt_180d  poi_1463_visitPoi_cnt_30d  poi_1463_visitPoi_cnt_90d  poi_1463_visitPoi_cnt_180d  poi_1463_visitTime_dayavg_30d  poi_1463_visitTime_dayavg_90d  poi_1463_visitTime_dayavg_180d  poi_191_visitDays_cnt_30d  poi_191_visitDays_cnt_90d  poi_191_visitDays_cnt_180d  poi_191_visitPoi_cnt_30d  poi_191_visitPoi_cnt_90d  poi_191_visitPoi_cnt_180d  poi_191_visitTime_dayavg_30d  poi_191_visitTime_dayavg_90d  poi_191_visitTime_dayavg_180d  poi_113_visitDays_cnt_30d  poi_113_visitDays_cnt_90d  poi_113_visitDays_cnt_180d  poi_113_visitPoi_cnt_30d  poi_113_visitPoi_cnt_90d  poi_113_visitPoi_cnt_180d  poi_113_visitTime_dayavg_30d  poi_113_visitTime_dayavg_90d  poi_113_visitTime_dayavg_180d  poi_100_visitDays_cnt_30d  poi_100_visitDays_cnt_90d  poi_100_visitDays_cnt_180d  poi_100_visitPoi_cnt_30d  poi_100_visitPoi_cnt_90d  poi_100_visitPoi_cnt_180d  poi_100_visitTime_dayavg_30d  poi_100_visitTime_dayavg_90d  poi_100_visitTime_dayavg_180d  poi_1506_visitDays_cnt_30d  poi_1506_visitDays_cnt_90d  poi_1506_visitDays_cnt_180d  poi_1506_visitPoi_cnt_30d  poi_1506_visitPoi_cnt_90d  poi_1506_visitPoi_cnt_180d  poi_1506_visitTime_dayavg_30d  poi_1506_visitTime_dayavg_90d  poi_1506_visitTime_dayavg_180d  poi_142_visitDays_cnt_30d  poi_142_visitDays_cnt_90d  poi_142_visitDays_cnt_180d  poi_142_visitPoi_cnt_30d  poi_142_visitPoi_cnt_90d  poi_142_visitPoi_cnt_180d  poi_142_visitTime_dayavg_30d  poi_142_visitTime_dayavg_90d  poi_142_visitTime_dayavg_180d  poi_104_visitDays_cnt_30d  poi_104_visitDays_cnt_90d  poi_104_visitDays_cnt_180d  poi_104_visitPoi_cnt_30d  poi_104_visitPoi_cnt_90d  poi_104_visitPoi_cnt_180d  poi_104_visitTime_dayavg_30d  poi_104_visitTime_dayavg_90d  poi_104_visitTime_dayavg_180d  poi_1521_visitDays_cnt_30d  poi_1521_visitDays_cnt_90d  poi_1521_visitDays_cnt_180d  poi_1521_visitPoi_cnt_30d  poi_1521_visitPoi_cnt_90d  poi_1521_visitPoi_cnt_180d  poi_1521_visitTime_dayavg_30d  poi_1521_visitTime_dayavg_90d  poi_1521_visitTime_dayavg_180d  poi_1467_visitDays_cnt_30d  poi_1467_visitDays_cnt_90d  poi_1467_visitDays_cnt_180d  poi_1467_visitPoi_cnt_30d  ...  poi_10_visitTime_dayavg_180d  poi_35_visitDays_cnt_30d  poi_35_visitDays_cnt_90d  poi_35_visitDays_cnt_180d  poi_35_visitPoi_cnt_30d  poi_35_visitPoi_cnt_90d  poi_35_visitPoi_cnt_180d  poi_35_visitTime_dayavg_30d  poi_35_visitTime_dayavg_90d  poi_35_visitTime_dayavg_180d  poi_45_visitDays_cnt_30d  poi_45_visitDays_cnt_90d  poi_45_visitDays_cnt_180d  poi_45_visitPoi_cnt_30d  poi_45_visitPoi_cnt_90d  poi_45_visitPoi_cnt_180d  poi_45_visitTime_dayavg_30d  poi_45_visitTime_dayavg_90d  poi_45_visitTime_dayavg_180d  poi_25_visitDays_cnt_30d  poi_25_visitDays_cnt_90d  poi_25_visitDays_cnt_180d  poi_25_visitPoi_cnt_30d  poi_25_visitPoi_cnt_90d  poi_25_visitPoi_cnt_180d  poi_25_visitTime_dayavg_30d  poi_25_visitTime_dayavg_90d  poi_25_visitTime_dayavg_180d  poi_75_visitDays_cnt_30d  poi_75_visitDays_cnt_90d  poi_75_visitDays_cnt_180d  poi_75_visitPoi_cnt_30d  poi_75_visitPoi_cnt_90d  poi_75_visitPoi_cnt_180d  poi_75_visitTime_dayavg_30d  poi_75_visitTime_dayavg_90d  poi_75_visitTime_dayavg_180d  poi_50_visitDays_cnt_30d  poi_50_visitDays_cnt_90d  poi_50_visitDays_cnt_180d  poi_50_visitPoi_cnt_30d  poi_50_visitPoi_cnt_90d  poi_50_visitPoi_cnt_180d  poi_50_visitTime_dayavg_30d  poi_50_visitTime_dayavg_90d  poi_50_visitTime_dayavg_180d  poi_40_visitDays_cnt_30d  poi_40_visitDays_cnt_90d  poi_40_visitDays_cnt_180d  poi_40_visitPoi_cnt_30d  poi_40_visitPoi_cnt_90d  poi_40_visitPoi_cnt_180d  poi_40_visitTime_dayavg_30d  poi_40_visitTime_dayavg_90d  poi_40_visitTime_dayavg_180d  poi_60_visitDays_cnt_30d  poi_60_visitDays_cnt_90d  poi_60_visitDays_cnt_180d  poi_60_visitPoi_cnt_30d  poi_60_visitPoi_cnt_90d  poi_60_visitPoi_cnt_180d  poi_60_visitTime_dayavg_30d  poi_60_visitTime_dayavg_90d  poi_60_visitTime_dayavg_180d  poi_541_visitDays_cnt_30d  poi_541_visitDays_cnt_90d  poi_541_visitDays_cnt_180d  poi_541_visitPoi_cnt_30d  poi_541_visitPoi_cnt_90d  poi_541_visitPoi_cnt_180d  poi_541_visitTime_dayavg_30d  poi_541_visitTime_dayavg_90d  poi_541_visitTime_dayavg_180d  poi_15_visitDays_cnt_30d  poi_15_visitDays_cnt_90d  poi_15_visitDays_cnt_180d  poi_15_visitPoi_cnt_30d  poi_15_visitPoi_cnt_90d  poi_15_visitPoi_cnt_180d  poi_15_visitTime_dayavg_30d  poi_15_visitTime_dayavg_90d  poi_15_visitTime_dayavg_180d  poi_30_visitDays_cnt_30d  poi_30_visitDays_cnt_90d  poi_30_visitDays_cnt_180d  poi_30_visitPoi_cnt_30d  poi_30_visitPoi_cnt_90d  poi_30_visitPoi_cnt_180d  poi_30_visitTime_dayavg_30d  poi_30_visitTime_dayavg_90d  poi_30_visitTime_dayavg_180d  poi_55_visitDays_cnt_30d  poi_55_visitDays_cnt_90d  poi_55_visitDays_cnt_180d  poi_55_visitPoi_cnt_30d  poi_55_visitPoi_cnt_90d  poi_55_visitPoi_cnt_180d  poi_55_visitTime_dayavg_30d  poi_55_visitTime_dayavg_90d  poi_55_visitTime_dayavg_180d\n",
       "0  896f151d437381404a07bec18b60d0e1  20231216     MD5            济宁市         3.0         三线                           0                           1                            1                          0                          1                           1                              0                           1841                            1841                          0                          0                           0                         0                         0                          0                             0                             0                              0                           0                           0                            0                          0                          0                           0                              0                              0                               0                          0                          0                           0                         0                         0                          0                             0                             0                              0                          0                          0                           0                         0                         0                          0                             0                             0                              0                          5                          6                           6                         1                         1                          1                          1642                          1740                           1740                           0                           0                            0                          0                          0                           0                              0                              0                               0                          1                          1                           1                         1                         1                          1                          2494                          2494                           2494                          0                          0                           0                         0                         0                          0                             0                             0                              0                           0                           0                            0                          0                          0                           0                              0                              0                               0                           0                           1                            1                          0  ...                          1591                         0                         0                          0                        0                        0                         0                            0                            0                             0                         1                         1                          1                        1                        1                         1                         2494                         2494                          2494                         0                         0                          0                        0                        0                         0                            0                            0                             0                         0                         0                          0                        0                        0                         0                            0                            0                             0                         0                         0                          0                        0                        0                         0                            0                            0                             0                         0                         0                          0                        0                        0                         0                            0                            0                             0                         0                         0                          0                        0                        0                         0                            0                            0                             0                          0                          0                           0                         0                         0                          0                             0                             0                              0                         0                         0                          0                        0                        0                         0                            0                            0                             0                         0                         0                          0                        0                        0                         0                            0                            0                             0                         0                         0                          0                        0                        0                         0                            0                            0                             0\n",
       "1  91fedf37f3c5fa6e9f79c433bb909d24  20231216     MD5            泸州市         4.0         四线                          12                          32                           32                          8                         24                          24                           5554                           3305                            3305                          6                         12                          12                         4                         9                          9                           308                          1014                           1014                           8                          10                           10                          1                          3                           3                          18034                          14458                           14458                          2                          5                           5                         3                         9                          9                           196                          1234                           1234                          7                         14                          14                         6                        11                         11                           318                           561                            561                         11                         28                          28                        12                        33                         33                          2305                          3452                           3452                           5                          11                           11                          4                         11                          11                           4421                           3034                            3034                          1                          2                           2                         1                         2                          2                           190                           104                            104                          7                         21                          21                         8                        15                         15                          1626                          1320                           1320                           1                           4                            4                          1                          4                           4                            124                            310                             310                           6                           7                            7                          4  ...                          5283                         7                        24                         24                        9                       28                        28                         7975                         9765                          9765                         3                         6                          6                        3                        6                         6                          386                         1773                          1773                        16                        34                         34                       11                       22                        22                         2133                         2324                          2324                         8                        21                         21                        9                       25                        25                         4015                         5902                          5902                        16                        42                         42                       14                       26                        26                         1198                        18096                         18096                         0                         0                          0                        0                        0                         0                            0                            0                             0                         0                         4                          4                        0                        4                         4                            0                         2385                          2385                          4                         12                          12                         4                         8                          8                           331                          1215                           1215                         7                        25                         25                        6                       16                        16                         9186                        18730                         18730                         3                         7                          7                        2                        2                         2                         2025                         2499                          2499                        10                        14                         14                        6                       17                        17                         1972                         3256                          3256\n",
       "\n",
       "[2 rows x 1212 columns]"
      ]
     },
     "execution_count": 212,
     "metadata": {},
     "output_type": "execute_result"
    }
   ],
   "source": [
    "score_fn.head(2)"
   ]
  },
  {
   "cell_type": "code",
   "execution_count": 155,
   "id": "011300a0",
   "metadata": {},
   "outputs": [],
   "source": [
    "score_58_24 = pd.read_csv(r\"D:\\work\\增益分析模型\\result_58_24.csv\", dtype={'date': 'object'}) \\\n",
    "                .loc[:, ['phone', 'date', 'score_24']].rename(columns={'score_24': 'score_24_58'})\n",
    "score_58_36 = pd.read_csv(r\"D:\\work\\增益分析模型\\result_58_36.csv\", dtype={'date': 'object'}) \\\n",
    "                .loc[:, ['phone', 'date', 'score_36']].rename(columns={'score_36': 'score_36_58'})\n",
    "score_byd_ym_36 = pd.read_csv(r\"D:\\work\\增益分析模型\\result_BDY_YM_36.csv\", dtype={'date': 'object'}) \\\n",
    "                .loc[:, ['phone', 'date', 'final_score']].rename(columns={'final_score': 'score_ym_36'})\n",
    "score_pp_24 = pd.read_csv(r\"D:\\work\\增益分析模型\\result_PP_24.csv\", dtype={'date': 'object'}) \\\n",
    "                .loc[:, ['phone', 'date', 'single_pred']].rename(columns={'single_pred': 'prod_pp_24'})\n",
    "score_ym_pp_24 = pd.read_csv(r\"D:\\work\\增益分析模型\\result_YM_PP_24.csv\", dtype={'date': 'object'}) \\\n",
    "                    .loc[:, ['phone', 'date', 'final_score']].rename(columns={'final_score': 'score_ym_pp_24'})\n",
    "score_cx = pd.read_csv(r\"D:\\work\\增益分析模型\\result_20250722_20w_评分_20250723_lc.csv\", parse_dates=['recall_date']) \\\n",
    "                .rename(columns={'mobile': 'phone', 'recall_date': 'date'}).drop(['idcard', 'match_flag'], axis=1)\n",
    "score_cx['date'] = score_cx['date'].apply(lambda x: str(x)[:10])\n",
    "\n",
    "score_ali_1 = pd.read_csv(r\"D:\\work\\增益分析模型\\59378_56b91_256-1_anti_fraud_v6_score.csv\", parse_dates=['applydate']) \\\n",
    "                .rename(columns={'mobileSha256': 'phone', 'applydate': 'date', 'score': 'score_ali'}) \\\n",
    "                .loc[:, ['phone', 'date', 'score_ali']]\n",
    "score_ali_2 = pd.read_csv(r\"D:\\work\\增益分析模型\\59380_18b1b_md5-1_anti_fraud_v6_score.csv\", parse_dates=['applydate']) \\\n",
    "                .rename(columns={'mobileMd5': 'phone', 'applydate': 'date', 'score': 'score_ali'}) \\\n",
    "                .loc[:, ['phone', 'date', 'score_ali']]\n",
    "score_ali = pd.concat([score_ali_1, score_ali_2], ignore_index=True)\n",
    "score_ali['date'] = score_ali['date'].apply(lambda x: str(x)[:10])\n",
    "score_ali['score_ali'] = score_ali['score_ali'].apply(lambda x: None if x == -1 else x)\n",
    "\n",
    "score_tx_1 = pd.read_excel(r\"D:\\work\\增益分析模型\\反欺诈v8s_行业风险4.1_风险分层v4-20250721-4w.xlsx\", parse_dates=['app_date']) \\\n",
    "                .rename(columns={'phonenum_sha256': 'phone', 'app_date': 'date'}) \\\n",
    "                .loc[:, ['phone', 'date', 'fx_score_v04', 'model_risk_v8_shighirr_score', 'model_risk_v8_slowirr_score', 'model_risk_v8_stongyong_score']]\n",
    "score_tx_2 = pd.read_excel(r\"D:\\work\\增益分析模型\\反欺诈v8s_行业风险4.1_风险分层v4-20250721-16w.xlsx\", parse_dates=['app_date']) \\\n",
    "                .rename(columns={'phonenum_md5': 'phone', 'app_date': 'date'}) \\\n",
    "                .loc[:, ['phone', 'date', 'fx_score_v04', 'model_risk_v8_shighirr_score', 'model_risk_v8_slowirr_score', 'model_risk_v8_stongyong_score']]\n",
    "score_tx = pd.concat([score_tx_1, score_tx_2], ignore_index=True)\n",
    "score_tx['date'] = score_tx['date'].apply(lambda x: str(x)[:10])\n",
    "\n"
   ]
  },
  {
   "cell_type": "code",
   "execution_count": 239,
   "id": "b9a2b7d6-eb47-4853-9750-fcbec7933a04",
   "metadata": {},
   "outputs": [
    {
     "name": "stdout",
     "output_type": "stream",
     "text": [
      "score_ali shape: (200000, 3)\n",
      "score_fn shape: (83792, 5)\n"
     ]
    }
   ],
   "source": [
    "print(f\"score_ali shape: {score_ali.shape}\")\n",
    "print(f\"score_fn shape: {score_fn.shape}\")"
   ]
  },
  {
   "cell_type": "code",
   "execution_count": 255,
   "id": "e236bacc-d518-49b8-8bd9-f4d19a85aa0a",
   "metadata": {},
   "outputs": [
    {
     "data": {
      "text/html": [
       "<div>\n",
       "<style scoped>\n",
       "    .dataframe tbody tr th:only-of-type {\n",
       "        vertical-align: middle;\n",
       "    }\n",
       "\n",
       "    .dataframe tbody tr th {\n",
       "        vertical-align: top;\n",
       "    }\n",
       "\n",
       "    .dataframe thead th {\n",
       "        text-align: right;\n",
       "    }\n",
       "</style>\n",
       "<table border=\"1\" class=\"dataframe\">\n",
       "  <thead>\n",
       "    <tr style=\"text-align: right;\">\n",
       "      <th></th>\n",
       "      <th>phone</th>\n",
       "      <th>date</th>\n",
       "      <th>score_ali</th>\n",
       "    </tr>\n",
       "  </thead>\n",
       "  <tbody>\n",
       "    <tr>\n",
       "      <th>0</th>\n",
       "      <td>f241a6dc833fa087a49fac4c2f19dd4e4dbae2a6b8e3a8...</td>\n",
       "      <td>2023-09-06</td>\n",
       "      <td>82.33</td>\n",
       "    </tr>\n",
       "    <tr>\n",
       "      <th>1</th>\n",
       "      <td>ee0881af1a596bae87a55473e5b735cc7334e9d5a3bb1a...</td>\n",
       "      <td>2024-01-13</td>\n",
       "      <td>36.14</td>\n",
       "    </tr>\n",
       "    <tr>\n",
       "      <th>2</th>\n",
       "      <td>ac7422965f26c8328e1149f3a4464c5fbc38d47ef076ab...</td>\n",
       "      <td>2023-11-23</td>\n",
       "      <td>26.06</td>\n",
       "    </tr>\n",
       "    <tr>\n",
       "      <th>3</th>\n",
       "      <td>2acfae7a97a1838114ee9c08f84954ece073e3e2e4bda7...</td>\n",
       "      <td>2023-09-27</td>\n",
       "      <td>12.93</td>\n",
       "    </tr>\n",
       "    <tr>\n",
       "      <th>4</th>\n",
       "      <td>ac36aa79c9abe7a90d9d79478d9af4ccf90edf6d686eb3...</td>\n",
       "      <td>2023-09-05</td>\n",
       "      <td>71.75</td>\n",
       "    </tr>\n",
       "    <tr>\n",
       "      <th>...</th>\n",
       "      <td>...</td>\n",
       "      <td>...</td>\n",
       "      <td>...</td>\n",
       "    </tr>\n",
       "    <tr>\n",
       "      <th>199995</th>\n",
       "      <td>d7b7b9ce8e71f623fb3eb917aee8c257</td>\n",
       "      <td>2024-10-06</td>\n",
       "      <td>99.41</td>\n",
       "    </tr>\n",
       "    <tr>\n",
       "      <th>199996</th>\n",
       "      <td>9c7374eef1d9bbfff83065e5aa3c4337</td>\n",
       "      <td>2024-10-06</td>\n",
       "      <td>99.53</td>\n",
       "    </tr>\n",
       "    <tr>\n",
       "      <th>199997</th>\n",
       "      <td>8ccc59748aceeb80bdc508bd0ae1b531</td>\n",
       "      <td>2024-10-04</td>\n",
       "      <td>80.65</td>\n",
       "    </tr>\n",
       "    <tr>\n",
       "      <th>199998</th>\n",
       "      <td>a6be2fb5d686c9e46c0c61439b96b6d9</td>\n",
       "      <td>2024-10-02</td>\n",
       "      <td>99.81</td>\n",
       "    </tr>\n",
       "    <tr>\n",
       "      <th>199999</th>\n",
       "      <td>c4d27886d1059366fead47574efae59a</td>\n",
       "      <td>2024-10-01</td>\n",
       "      <td>50.92</td>\n",
       "    </tr>\n",
       "  </tbody>\n",
       "</table>\n",
       "<p>200000 rows × 3 columns</p>\n",
       "</div>"
      ],
      "text/plain": [
       "                                                    phone       date  score_ali\n",
       "0       f241a6dc833fa087a49fac4c2f19dd4e4dbae2a6b8e3a8... 2023-09-06      82.33\n",
       "1       ee0881af1a596bae87a55473e5b735cc7334e9d5a3bb1a... 2024-01-13      36.14\n",
       "2       ac7422965f26c8328e1149f3a4464c5fbc38d47ef076ab... 2023-11-23      26.06\n",
       "3       2acfae7a97a1838114ee9c08f84954ece073e3e2e4bda7... 2023-09-27      12.93\n",
       "4       ac36aa79c9abe7a90d9d79478d9af4ccf90edf6d686eb3... 2023-09-05      71.75\n",
       "...                                                   ...        ...        ...\n",
       "199995                   d7b7b9ce8e71f623fb3eb917aee8c257 2024-10-06      99.41\n",
       "199996                   9c7374eef1d9bbfff83065e5aa3c4337 2024-10-06      99.53\n",
       "199997                   8ccc59748aceeb80bdc508bd0ae1b531 2024-10-04      80.65\n",
       "199998                   a6be2fb5d686c9e46c0c61439b96b6d9 2024-10-02      99.81\n",
       "199999                   c4d27886d1059366fead47574efae59a 2024-10-01      50.92\n",
       "\n",
       "[200000 rows x 3 columns]"
      ]
     },
     "execution_count": 255,
     "metadata": {},
     "output_type": "execute_result"
    }
   ],
   "source": [
    "score_ali"
   ]
  },
  {
   "cell_type": "code",
   "execution_count": null,
   "id": "f1cd9709-9b8f-4356-9622-63d8888f1010",
   "metadata": {},
   "outputs": [],
   "source": []
  },
  {
   "cell_type": "code",
   "execution_count": 249,
   "id": "cd8bfd75-f103-4547-98c2-ec4683aae650",
   "metadata": {},
   "outputs": [
    {
     "data": {
      "text/html": [
       "<div>\n",
       "<style scoped>\n",
       "    .dataframe tbody tr th:only-of-type {\n",
       "        vertical-align: middle;\n",
       "    }\n",
       "\n",
       "    .dataframe tbody tr th {\n",
       "        vertical-align: top;\n",
       "    }\n",
       "\n",
       "    .dataframe thead th {\n",
       "        text-align: right;\n",
       "    }\n",
       "</style>\n",
       "<table border=\"1\" class=\"dataframe\">\n",
       "  <thead>\n",
       "    <tr style=\"text-align: right;\">\n",
       "      <th></th>\n",
       "      <th>phone</th>\n",
       "      <th>date</th>\n",
       "      <th>score_ali</th>\n",
       "      <th>poi_20_visitTime_dayavg_90d</th>\n",
       "      <th>poi_1475_visitDays_cnt_180d</th>\n",
       "      <th>poi_20_visitDays_cnt_180d</th>\n",
       "    </tr>\n",
       "  </thead>\n",
       "  <tbody>\n",
       "    <tr>\n",
       "      <th>0</th>\n",
       "      <td>f241a6dc833fa087a49fac4c2f19dd4e4dbae2a6b8e3a8...</td>\n",
       "      <td>2023-09-06</td>\n",
       "      <td>82.33</td>\n",
       "      <td>NaN</td>\n",
       "      <td>NaN</td>\n",
       "      <td>NaN</td>\n",
       "    </tr>\n",
       "    <tr>\n",
       "      <th>1</th>\n",
       "      <td>ee0881af1a596bae87a55473e5b735cc7334e9d5a3bb1a...</td>\n",
       "      <td>2024-01-13</td>\n",
       "      <td>36.14</td>\n",
       "      <td>5451.0</td>\n",
       "      <td>2.0</td>\n",
       "      <td>42.0</td>\n",
       "    </tr>\n",
       "    <tr>\n",
       "      <th>2</th>\n",
       "      <td>ac7422965f26c8328e1149f3a4464c5fbc38d47ef076ab...</td>\n",
       "      <td>2023-11-23</td>\n",
       "      <td>26.06</td>\n",
       "      <td>NaN</td>\n",
       "      <td>NaN</td>\n",
       "      <td>NaN</td>\n",
       "    </tr>\n",
       "    <tr>\n",
       "      <th>3</th>\n",
       "      <td>2acfae7a97a1838114ee9c08f84954ece073e3e2e4bda7...</td>\n",
       "      <td>2023-09-27</td>\n",
       "      <td>12.93</td>\n",
       "      <td>NaN</td>\n",
       "      <td>NaN</td>\n",
       "      <td>NaN</td>\n",
       "    </tr>\n",
       "    <tr>\n",
       "      <th>4</th>\n",
       "      <td>ac36aa79c9abe7a90d9d79478d9af4ccf90edf6d686eb3...</td>\n",
       "      <td>2023-09-05</td>\n",
       "      <td>71.75</td>\n",
       "      <td>NaN</td>\n",
       "      <td>NaN</td>\n",
       "      <td>NaN</td>\n",
       "    </tr>\n",
       "  </tbody>\n",
       "</table>\n",
       "</div>"
      ],
      "text/plain": [
       "                                               phone       date  score_ali  poi_20_visitTime_dayavg_90d  poi_1475_visitDays_cnt_180d  poi_20_visitDays_cnt_180d\n",
       "0  f241a6dc833fa087a49fac4c2f19dd4e4dbae2a6b8e3a8... 2023-09-06      82.33                          NaN                          NaN                        NaN\n",
       "1  ee0881af1a596bae87a55473e5b735cc7334e9d5a3bb1a... 2024-01-13      36.14                       5451.0                          2.0                       42.0\n",
       "2  ac7422965f26c8328e1149f3a4464c5fbc38d47ef076ab... 2023-11-23      26.06                          NaN                          NaN                        NaN\n",
       "3  2acfae7a97a1838114ee9c08f84954ece073e3e2e4bda7... 2023-09-27      12.93                          NaN                          NaN                        NaN\n",
       "4  ac36aa79c9abe7a90d9d79478d9af4ccf90edf6d686eb3... 2023-09-05      71.75                          NaN                          NaN                        NaN"
      ]
     },
     "execution_count": 249,
     "metadata": {},
     "output_type": "execute_result"
    }
   ],
   "source": [
    "merged_ali.head()"
   ]
  },
  {
   "cell_type": "code",
   "execution_count": 248,
   "id": "4800b51e-6e2e-428f-844c-1200ec1d9001",
   "metadata": {},
   "outputs": [],
   "source": [
    "merged_ali = pd.merge(score_ali, score_fn, on=['phone','date'], how='left')"
   ]
  },
  {
   "cell_type": "code",
   "execution_count": 254,
   "id": "a80736c6-07dd-4382-afa0-f5d07e0d97f2",
   "metadata": {},
   "outputs": [
    {
     "name": "stdout",
     "output_type": "stream",
     "text": [
      "与 score_fn 成功匹配的样本数: 13827\n"
     ]
    }
   ],
   "source": [
    "matched_count = merged_ali['poi_20_visitTime_dayavg_90d'].notna().sum()\n",
    "print(f\"与 score_fn 成功匹配的样本数: {matched_count}\")"
   ]
  },
  {
   "cell_type": "code",
   "execution_count": 258,
   "id": "fc347500-3e0a-4976-aa8f-c545aac2267f",
   "metadata": {},
   "outputs": [
    {
     "name": "stdout",
     "output_type": "stream",
     "text": [
      "score_tx shape: (200000, 3)\n",
      "score_fn shape: (83792, 5)\n"
     ]
    }
   ],
   "source": [
    "print(f\"score_tx shape: {score_ali.shape}\")\n",
    "print(f\"score_fn shape: {score_fn.shape}\")"
   ]
  },
  {
   "cell_type": "code",
   "execution_count": 257,
   "id": "66118e71-03a8-497b-bd53-86e1258be2c1",
   "metadata": {},
   "outputs": [],
   "source": [
    "merged_tx=score_tx.merge(score_fn,on=['phone','date'],how='left')"
   ]
  },
  {
   "cell_type": "code",
   "execution_count": 259,
   "id": "51b141b8-b148-4113-be32-3001a50978c0",
   "metadata": {},
   "outputs": [
    {
     "name": "stdout",
     "output_type": "stream",
     "text": [
      "与 score_fn 成功匹配的样本数: 13827\n"
     ]
    }
   ],
   "source": [
    "matched_tx = merged_tx['poi_20_visitTime_dayavg_90d'].notna().sum()\n",
    "print(f\"与 score_fn 成功匹配的样本数: {matched_tx}\")"
   ]
  },
  {
   "cell_type": "code",
   "execution_count": 213,
   "id": "9a1bda0c-b122-4844-859a-8c49721fcd29",
   "metadata": {},
   "outputs": [],
   "source": [
    "features=['poi_20_visitTime_dayavg_90d',\n",
    "          'poi_1475_visitDays_cnt_180d',\n",
    "         'poi_20_visitDays_cnt_180d']\n",
    "non_feature_cols = ['date','phone']\n",
    "columns= non_feature_cols + features"
   ]
  },
  {
   "cell_type": "code",
   "execution_count": 214,
   "id": "914afb71-4082-4eda-af86-2a4b98c56226",
   "metadata": {},
   "outputs": [],
   "source": [
    "score_fn = score_fn[columns]"
   ]
  },
  {
   "cell_type": "code",
   "execution_count": 215,
   "id": "f76d02b8-ffc8-4f7c-ace4-8c6a32ee05f6",
   "metadata": {},
   "outputs": [
    {
     "data": {
      "text/plain": [
       "Index(['date', 'phone', 'poi_20_visitTime_dayavg_90d', 'poi_1475_visitDays_cnt_180d', 'poi_20_visitDays_cnt_180d'], dtype='object')"
      ]
     },
     "execution_count": 215,
     "metadata": {},
     "output_type": "execute_result"
    }
   ],
   "source": [
    "score_fn.columns"
   ]
  },
  {
   "cell_type": "code",
   "execution_count": 216,
   "id": "033efed4-336c-4c30-811b-48323aa6b171",
   "metadata": {},
   "outputs": [],
   "source": [
    "# 把所有相关 dataframe 的 date 列统一转换为 datetime 类型\n",
    "for df in [target_all, score_58_24, score_58_36, score_byd_ym_36, \n",
    "           score_pp_24, score_ym_pp_24, score_cx, score_ali, score_tx,score_fn]:\n",
    "    df['date'] = pd.to_datetime(df['date'], errors='coerce')\n"
   ]
  },
  {
   "cell_type": "code",
   "execution_count": 217,
   "id": "cf78f0e8",
   "metadata": {},
   "outputs": [],
   "source": [
    "score_all = target_all.merge(score_58_24, on=['phone', 'date'], how='left') \\\n",
    "                        .merge(score_58_36, on=['phone', 'date'], how='left') \\\n",
    "                        .merge(score_byd_ym_36, on=['phone', 'date'], how='left') \\\n",
    "                        .merge(score_pp_24, on=['phone', 'date'], how='left') \\\n",
    "                        .merge(score_ym_pp_24, on=['phone', 'date'], how='left') \\\n",
    "                        .merge(score_cx, on=['phone', 'date'], how='left') \\\n",
    "                        .merge(score_ali, on=['phone', 'date'], how='left') \\\n",
    "                        .merge(score_tx, on=['phone', 'date'], how='left') \\\n",
    "                        .merge(score_fn, on=['phone', 'date'], how='left') \\\n",
    "                        .assign(weight=1) \\\n",
    "                        .rename(columns={'score_24_58':'峦盾分V7','score_36_58':'峦盾分V8','score_ym_36':'川峰分V1','score_ym_pp_24':'川衡分V2','':''})\n",
    "score_all.drop_duplicates('phone', inplace=True)"
   ]
  },
  {
   "cell_type": "code",
   "execution_count": 218,
   "id": "3c45368a",
   "metadata": {},
   "outputs": [],
   "source": [
    "start_col = score_all.columns.get_loc('峦盾分V7')\n",
    "score_part = score_all.iloc[:,start_col:]\n",
    "score_all = pd.concat([score_all[['customer','target']], score_part], axis=1)"
   ]
  },
  {
   "cell_type": "code",
   "execution_count": 220,
   "id": "aac1fb4a-86c2-4eb7-bb94-c14f84e82fc7",
   "metadata": {},
   "outputs": [
    {
     "data": {
      "text/plain": [
       "customer                              0\n",
       "target                                0\n",
       "峦盾分V7                            208005\n",
       "峦盾分V8                            208005\n",
       "川峰分V1                            151858\n",
       "prod_pp_24                       350918\n",
       "川衡分V2                            111266\n",
       "BZ_R1V2_Scores                   394313\n",
       "DR_R1_Scores                     394313\n",
       "QZ_R1_Scores                     394313\n",
       "score_ali                        335000\n",
       "fx_score_v04                     334633\n",
       "model_risk_v8_shighirr_score     334553\n",
       "model_risk_v8_slowirr_score      334420\n",
       "model_risk_v8_stongyong_score    334553\n",
       "poi_20_visitTime_dayavg_90d      404598\n",
       "poi_1475_visitDays_cnt_180d      404598\n",
       "poi_20_visitDays_cnt_180d        404598\n",
       "weight                                0\n",
       "dtype: int64"
      ]
     },
     "execution_count": 220,
     "metadata": {},
     "output_type": "execute_result"
    }
   ],
   "source": [
    "score_all.isna().sum()"
   ]
  },
  {
   "cell_type": "code",
   "execution_count": 221,
   "id": "87e056de",
   "metadata": {},
   "outputs": [
    {
     "data": {
      "text/html": [
       "<div>\n",
       "<style scoped>\n",
       "    .dataframe tbody tr th:only-of-type {\n",
       "        vertical-align: middle;\n",
       "    }\n",
       "\n",
       "    .dataframe tbody tr th {\n",
       "        vertical-align: top;\n",
       "    }\n",
       "\n",
       "    .dataframe thead th {\n",
       "        text-align: right;\n",
       "    }\n",
       "</style>\n",
       "<table border=\"1\" class=\"dataframe\">\n",
       "  <thead>\n",
       "    <tr style=\"text-align: right;\">\n",
       "      <th></th>\n",
       "      <th>customer</th>\n",
       "      <th>target</th>\n",
       "      <th>峦盾分V7</th>\n",
       "      <th>峦盾分V8</th>\n",
       "      <th>川峰分V1</th>\n",
       "      <th>prod_pp_24</th>\n",
       "      <th>川衡分V2</th>\n",
       "      <th>BZ_R1V2_Scores</th>\n",
       "      <th>DR_R1_Scores</th>\n",
       "      <th>QZ_R1_Scores</th>\n",
       "      <th>score_ali</th>\n",
       "      <th>fx_score_v04</th>\n",
       "      <th>model_risk_v8_shighirr_score</th>\n",
       "      <th>model_risk_v8_slowirr_score</th>\n",
       "      <th>model_risk_v8_stongyong_score</th>\n",
       "      <th>poi_20_visitTime_dayavg_90d</th>\n",
       "      <th>poi_1475_visitDays_cnt_180d</th>\n",
       "      <th>poi_20_visitDays_cnt_180d</th>\n",
       "      <th>weight</th>\n",
       "    </tr>\n",
       "    <tr>\n",
       "      <th>customer</th>\n",
       "      <th></th>\n",
       "      <th></th>\n",
       "      <th></th>\n",
       "      <th></th>\n",
       "      <th></th>\n",
       "      <th></th>\n",
       "      <th></th>\n",
       "      <th></th>\n",
       "      <th></th>\n",
       "      <th></th>\n",
       "      <th></th>\n",
       "      <th></th>\n",
       "      <th></th>\n",
       "      <th></th>\n",
       "      <th></th>\n",
       "      <th></th>\n",
       "      <th></th>\n",
       "      <th></th>\n",
       "      <th></th>\n",
       "    </tr>\n",
       "  </thead>\n",
       "  <tbody>\n",
       "    <tr>\n",
       "      <th>DD</th>\n",
       "      <td>1.0</td>\n",
       "      <td>1.0</td>\n",
       "      <td>0.522874</td>\n",
       "      <td>0.522874</td>\n",
       "      <td>0.591794</td>\n",
       "      <td>0.311617</td>\n",
       "      <td>0.713446</td>\n",
       "      <td>0.138829</td>\n",
       "      <td>0.138829</td>\n",
       "      <td>0.138829</td>\n",
       "      <td>0.198109</td>\n",
       "      <td>0.199091</td>\n",
       "      <td>0.199200</td>\n",
       "      <td>0.199320</td>\n",
       "      <td>0.199200</td>\n",
       "      <td>0.151086</td>\n",
       "      <td>0.151086</td>\n",
       "      <td>0.151086</td>\n",
       "      <td>1.0</td>\n",
       "    </tr>\n",
       "    <tr>\n",
       "      <th>HR</th>\n",
       "      <td>1.0</td>\n",
       "      <td>1.0</td>\n",
       "      <td>0.529868</td>\n",
       "      <td>0.529868</td>\n",
       "      <td>0.671987</td>\n",
       "      <td>0.251111</td>\n",
       "      <td>0.750979</td>\n",
       "      <td>0.085530</td>\n",
       "      <td>0.085530</td>\n",
       "      <td>0.085530</td>\n",
       "      <td>0.169483</td>\n",
       "      <td>0.169543</td>\n",
       "      <td>0.169603</td>\n",
       "      <td>0.169761</td>\n",
       "      <td>0.169603</td>\n",
       "      <td>0.245094</td>\n",
       "      <td>0.245094</td>\n",
       "      <td>0.245094</td>\n",
       "      <td>1.0</td>\n",
       "    </tr>\n",
       "    <tr>\n",
       "      <th>NB</th>\n",
       "      <td>1.0</td>\n",
       "      <td>1.0</td>\n",
       "      <td>0.822793</td>\n",
       "      <td>0.822793</td>\n",
       "      <td>0.961365</td>\n",
       "      <td>0.289686</td>\n",
       "      <td>0.970306</td>\n",
       "      <td>0.553331</td>\n",
       "      <td>0.553331</td>\n",
       "      <td>0.553331</td>\n",
       "      <td>0.998489</td>\n",
       "      <td>0.998917</td>\n",
       "      <td>0.999144</td>\n",
       "      <td>0.999849</td>\n",
       "      <td>0.999144</td>\n",
       "      <td>0.000000</td>\n",
       "      <td>0.000000</td>\n",
       "      <td>0.000000</td>\n",
       "      <td>1.0</td>\n",
       "    </tr>\n",
       "    <tr>\n",
       "      <th>YG</th>\n",
       "      <td>1.0</td>\n",
       "      <td>1.0</td>\n",
       "      <td>0.811994</td>\n",
       "      <td>0.811994</td>\n",
       "      <td>0.946252</td>\n",
       "      <td>0.319441</td>\n",
       "      <td>0.957944</td>\n",
       "      <td>0.700466</td>\n",
       "      <td>0.700466</td>\n",
       "      <td>0.700466</td>\n",
       "      <td>0.993247</td>\n",
       "      <td>0.997379</td>\n",
       "      <td>0.998337</td>\n",
       "      <td>0.999521</td>\n",
       "      <td>0.998337</td>\n",
       "      <td>0.000000</td>\n",
       "      <td>0.000000</td>\n",
       "      <td>0.000000</td>\n",
       "      <td>1.0</td>\n",
       "    </tr>\n",
       "  </tbody>\n",
       "</table>\n",
       "</div>"
      ],
      "text/plain": [
       "          customer  target     峦盾分V7     峦盾分V8     川峰分V1  prod_pp_24     川衡分V2  BZ_R1V2_Scores  DR_R1_Scores  QZ_R1_Scores  score_ali  fx_score_v04  model_risk_v8_shighirr_score  model_risk_v8_slowirr_score  model_risk_v8_stongyong_score  poi_20_visitTime_dayavg_90d  poi_1475_visitDays_cnt_180d  poi_20_visitDays_cnt_180d  weight\n",
       "customer                                                                                                                                                                                                                                                                                                                                  \n",
       "DD             1.0     1.0  0.522874  0.522874  0.591794    0.311617  0.713446        0.138829      0.138829      0.138829   0.198109      0.199091                      0.199200                     0.199320                       0.199200                     0.151086                     0.151086                   0.151086     1.0\n",
       "HR             1.0     1.0  0.529868  0.529868  0.671987    0.251111  0.750979        0.085530      0.085530      0.085530   0.169483      0.169543                      0.169603                     0.169761                       0.169603                     0.245094                     0.245094                   0.245094     1.0\n",
       "NB             1.0     1.0  0.822793  0.822793  0.961365    0.289686  0.970306        0.553331      0.553331      0.553331   0.998489      0.998917                      0.999144                     0.999849                       0.999144                     0.000000                     0.000000                   0.000000     1.0\n",
       "YG             1.0     1.0  0.811994  0.811994  0.946252    0.319441  0.957944        0.700466      0.700466      0.700466   0.993247      0.997379                      0.998337                     0.999521                       0.998337                     0.000000                     0.000000                   0.000000     1.0"
      ]
     },
     "execution_count": 221,
     "metadata": {},
     "output_type": "execute_result"
    }
   ],
   "source": [
    "score_all.groupby('customer').apply(lambda x: x.notna().mean())"
   ]
  },
  {
   "cell_type": "code",
   "execution_count": 88,
   "id": "42b9d3c5",
   "metadata": {},
   "outputs": [
    {
     "data": {
      "text/plain": [
       "Index(['customer', '峦盾分V7', '峦盾分V8', '川峰分V1', 'prod_pp_24', '川衡分V2', 'BZ_R1V2_Scores', 'DR_R1_Scores', 'QZ_R1_Scores', 'score_ali', 'fx_score_v04', 'model_risk_v8_shighirr_score', 'model_risk_v8_slowirr_score', 'model_risk_v8_stongyong_score', 'encrypt_y', 'uuid', 'poi_20_visitTime_dayavg_90d', 'poi_1475_visitDays_cnt_180d', 'poi_20_visitDays_cnt_180d', 'weight'], dtype='object')"
      ]
     },
     "execution_count": 88,
     "metadata": {},
     "output_type": "execute_result"
    }
   ],
   "source": [
    "score_all.columns"
   ]
  },
  {
   "cell_type": "code",
   "execution_count": 223,
   "id": "7e3523d1",
   "metadata": {},
   "outputs": [
    {
     "name": "stdout",
     "output_type": "stream",
     "text": [
      "DD\n",
      "HR\n"
     ]
    },
    {
     "data": {
      "text/html": [
       "<div>\n",
       "<style scoped>\n",
       "    .dataframe tbody tr th:only-of-type {\n",
       "        vertical-align: middle;\n",
       "    }\n",
       "\n",
       "    .dataframe tbody tr th {\n",
       "        vertical-align: top;\n",
       "    }\n",
       "\n",
       "    .dataframe thead th {\n",
       "        text-align: right;\n",
       "    }\n",
       "</style>\n",
       "<table border=\"1\" class=\"dataframe\">\n",
       "  <thead>\n",
       "    <tr style=\"text-align: right;\">\n",
       "      <th></th>\n",
       "      <th>DD_train_ks</th>\n",
       "      <th>DD_test_ks</th>\n",
       "      <th>HR_train_ks</th>\n",
       "      <th>HR_test_ks</th>\n",
       "    </tr>\n",
       "  </thead>\n",
       "  <tbody>\n",
       "    <tr>\n",
       "      <th>峦盾分V7</th>\n",
       "      <td>9.390731</td>\n",
       "      <td>6.721742</td>\n",
       "      <td>5.782440</td>\n",
       "      <td>5.135494</td>\n",
       "    </tr>\n",
       "    <tr>\n",
       "      <th>峦盾分V8</th>\n",
       "      <td>4.976624</td>\n",
       "      <td>3.128321</td>\n",
       "      <td>2.061882</td>\n",
       "      <td>2.272116</td>\n",
       "    </tr>\n",
       "    <tr>\n",
       "      <th>川峰分V1</th>\n",
       "      <td>6.103769</td>\n",
       "      <td>6.129142</td>\n",
       "      <td>2.889134</td>\n",
       "      <td>4.374387</td>\n",
       "    </tr>\n",
       "    <tr>\n",
       "      <th>川衡分V2</th>\n",
       "      <td>14.158192</td>\n",
       "      <td>15.340242</td>\n",
       "      <td>14.275688</td>\n",
       "      <td>13.247020</td>\n",
       "    </tr>\n",
       "    <tr>\n",
       "      <th>BZ_R1V2_Scores</th>\n",
       "      <td>4.997864</td>\n",
       "      <td>4.936970</td>\n",
       "      <td>3.462408</td>\n",
       "      <td>4.345261</td>\n",
       "    </tr>\n",
       "    <tr>\n",
       "      <th>DR_R1_Scores</th>\n",
       "      <td>8.677265</td>\n",
       "      <td>14.125927</td>\n",
       "      <td>5.110093</td>\n",
       "      <td>3.210432</td>\n",
       "    </tr>\n",
       "    <tr>\n",
       "      <th>QZ_R1_Scores</th>\n",
       "      <td>8.815688</td>\n",
       "      <td>10.415289</td>\n",
       "      <td>3.813264</td>\n",
       "      <td>3.907234</td>\n",
       "    </tr>\n",
       "    <tr>\n",
       "      <th>score_ali</th>\n",
       "      <td>19.266465</td>\n",
       "      <td>20.605817</td>\n",
       "      <td>15.730721</td>\n",
       "      <td>17.258615</td>\n",
       "    </tr>\n",
       "    <tr>\n",
       "      <th>fx_score_v04</th>\n",
       "      <td>14.573182</td>\n",
       "      <td>16.382502</td>\n",
       "      <td>14.245578</td>\n",
       "      <td>14.640603</td>\n",
       "    </tr>\n",
       "    <tr>\n",
       "      <th>model_risk_v8_shighirr_score</th>\n",
       "      <td>20.294057</td>\n",
       "      <td>18.786850</td>\n",
       "      <td>12.991068</td>\n",
       "      <td>15.317429</td>\n",
       "    </tr>\n",
       "    <tr>\n",
       "      <th>model_risk_v8_slowirr_score</th>\n",
       "      <td>17.182941</td>\n",
       "      <td>16.627288</td>\n",
       "      <td>17.102331</td>\n",
       "      <td>17.300557</td>\n",
       "    </tr>\n",
       "    <tr>\n",
       "      <th>model_risk_v8_stongyong_score</th>\n",
       "      <td>20.493660</td>\n",
       "      <td>18.826380</td>\n",
       "      <td>14.166081</td>\n",
       "      <td>17.102112</td>\n",
       "    </tr>\n",
       "    <tr>\n",
       "      <th>poi_20_visitTime_dayavg_90d</th>\n",
       "      <td>3.003755</td>\n",
       "      <td>9.657422</td>\n",
       "      <td>7.151020</td>\n",
       "      <td>5.653473</td>\n",
       "    </tr>\n",
       "    <tr>\n",
       "      <th>poi_1475_visitDays_cnt_180d</th>\n",
       "      <td>2.288118</td>\n",
       "      <td>2.613477</td>\n",
       "      <td>1.978515</td>\n",
       "      <td>1.134766</td>\n",
       "    </tr>\n",
       "    <tr>\n",
       "      <th>poi_20_visitDays_cnt_180d</th>\n",
       "      <td>1.647843</td>\n",
       "      <td>9.482650</td>\n",
       "      <td>6.042052</td>\n",
       "      <td>4.831479</td>\n",
       "    </tr>\n",
       "  </tbody>\n",
       "</table>\n",
       "</div>"
      ],
      "text/plain": [
       "                               DD_train_ks  DD_test_ks  HR_train_ks  HR_test_ks\n",
       "峦盾分V7                             9.390731    6.721742     5.782440    5.135494\n",
       "峦盾分V8                             4.976624    3.128321     2.061882    2.272116\n",
       "川峰分V1                             6.103769    6.129142     2.889134    4.374387\n",
       "川衡分V2                            14.158192   15.340242    14.275688   13.247020\n",
       "BZ_R1V2_Scores                    4.997864    4.936970     3.462408    4.345261\n",
       "DR_R1_Scores                      8.677265   14.125927     5.110093    3.210432\n",
       "QZ_R1_Scores                      8.815688   10.415289     3.813264    3.907234\n",
       "score_ali                        19.266465   20.605817    15.730721   17.258615\n",
       "fx_score_v04                     14.573182   16.382502    14.245578   14.640603\n",
       "model_risk_v8_shighirr_score     20.294057   18.786850    12.991068   15.317429\n",
       "model_risk_v8_slowirr_score      17.182941   16.627288    17.102331   17.300557\n",
       "model_risk_v8_stongyong_score    20.493660   18.826380    14.166081   17.102112\n",
       "poi_20_visitTime_dayavg_90d       3.003755    9.657422     7.151020    5.653473\n",
       "poi_1475_visitDays_cnt_180d       2.288118    2.613477     1.978515    1.134766\n",
       "poi_20_visitDays_cnt_180d         1.647843    9.482650     6.042052    4.831479"
      ]
     },
     "execution_count": 223,
     "metadata": {},
     "output_type": "execute_result"
    }
   ],
   "source": [
    "from sklearn.metrics import roc_curve\n",
    "from sklearn.metrics import roc_auc_score\n",
    "\n",
    "import numpy as np\n",
    "import pandas as pd\n",
    "import matplotlib.pyplot as plt\n",
    "\n",
    "def calculate_ks(y_true, y_score, n_bins=10):\n",
    "    # 强制转换为数值型，遇到异常转为 NaN\n",
    "    y_true = pd.to_numeric(y_true, errors='coerce')\n",
    "    y_score = pd.to_numeric(y_score, errors='coerce')\n",
    "\n",
    "    df = pd.DataFrame({'score': y_score, 'bad': y_true})\n",
    "    df.dropna(inplace=True)\n",
    "    df = df.sort_values('score')\n",
    "\n",
    "    df['bucket'] = pd.qcut(df['score'], q=n_bins, duplicates='drop')\n",
    "    grouped = df.groupby('bucket', as_index=False)\n",
    "    result = grouped.agg({'score': ['min', 'max', 'count'], 'bad': ['sum', 'mean']})\n",
    "    result.columns = ['_'.join(col).strip() for col in result.columns.values]\n",
    "\n",
    "    result = result.rename(columns={\n",
    "        'score_min': 'min_score',\n",
    "        'score_max': 'max_score',\n",
    "        'score_count': 'total',\n",
    "        'bad_sum': 'bad_count',\n",
    "        'bad_mean': 'bad_rate'\n",
    "    })\n",
    "\n",
    "    # 再次强制转换\n",
    "    result['total'] = pd.to_numeric(result['total'], errors='coerce')\n",
    "    result['bad_count'] = pd.to_numeric(result['bad_count'], errors='coerce')\n",
    "\n",
    "    result['good_count'] = result['total'] - result['bad_count']\n",
    "    result['cum_good'] = result['good_count'].cumsum()\n",
    "    result['cum_bad'] = result['bad_count'].cumsum()\n",
    "    result['cum_good_pct'] = result['cum_good'] / result['good_count'].sum()\n",
    "    result['cum_bad_pct'] = result['cum_bad'] / result['bad_count'].sum()\n",
    "    result['ks'] = np.abs(result['cum_bad_pct'] - result['cum_good_pct'])\n",
    "\n",
    "    return result['ks'].max() * 100\n",
    "\n",
    "\n",
    "\n",
    "score_col = score_all.loc[:, '峦盾分V7':].drop(['prod_pp_24','weight'],axis=1).columns.tolist()\n",
    "cust_ks = pd.DataFrame(index=score_col)\n",
    "for cust in ['DD','HR']:\n",
    "    print(cust)\n",
    "    cust_fn = pd.DataFrame()\n",
    "    for col in score_col:\n",
    "        score_cust = score_all.loc[score_all['customer'].eq(cust), ['target', col]].copy().dropna()\n",
    "        df_train = score_cust.sample(frac=0.7, random_state=2)\n",
    "        df_test = score_cust.drop(df_train.index)  \n",
    "        \n",
    "        cust_fn.at[col, cust+'_train_ks'] = calculate_ks(df_train['target'], df_train[col])\n",
    "        cust_fn.at[col, cust+'_test_ks'] = calculate_ks(df_test['target'], df_test[col])  \n",
    "    cust_ks = cust_ks.join(cust_fn)\n",
    "cust_ks"
   ]
  },
  {
   "cell_type": "code",
   "execution_count": 97,
   "id": "c28c4fdc-8b88-436e-b256-27b41e934251",
   "metadata": {},
   "outputs": [
    {
     "data": {
      "text/plain": [
       "['峦盾分V7',\n",
       " '峦盾分V8',\n",
       " '川峰分V1',\n",
       " '川衡分V2',\n",
       " 'BZ_R1V2_Scores',\n",
       " 'DR_R1_Scores',\n",
       " 'QZ_R1_Scores',\n",
       " 'score_ali',\n",
       " 'fx_score_v04',\n",
       " 'model_risk_v8_shighirr_score',\n",
       " 'model_risk_v8_slowirr_score',\n",
       " 'model_risk_v8_stongyong_score',\n",
       " 'encrypt_y',\n",
       " 'uuid']"
      ]
     },
     "execution_count": 97,
     "metadata": {},
     "output_type": "execute_result"
    }
   ],
   "source": [
    "score_base"
   ]
  },
  {
   "cell_type": "code",
   "execution_count": 231,
   "id": "856aa293",
   "metadata": {},
   "outputs": [
    {
     "name": "stdout",
     "output_type": "stream",
     "text": [
      "【DD】正在处理特征：poi_20_visitTime_dayavg_90d\n",
      "开始计算rescaling以及填充，使用的特殊值为[]以及nan\n",
      "填充: 峦盾分V7_rescaled nan -3.1366721494465706\n",
      "填充: 峦盾分V7_rescaled nan -3.1366721494465706\n",
      "warning: 没有对击中赋值，这里先以是否为空定义击中\n"
     ]
    },
    {
     "name": "stderr",
     "output_type": "stream",
     "text": [
      "100%|██████████| 1/1 [00:00<00:00,  6.30it/s]\n"
     ]
    },
    {
     "name": "stdout",
     "output_type": "stream",
     "text": [
      "开始计算rescaling以及填充，使用的特殊值为[]以及nan\n",
      "填充: 峦盾分V8_rescaled nan -3.136672149446752\n",
      "填充: 峦盾分V8_rescaled nan -3.136672149446752\n",
      "warning: 没有对击中赋值，这里先以是否为空定义击中\n"
     ]
    },
    {
     "name": "stderr",
     "output_type": "stream",
     "text": [
      "100%|██████████| 1/1 [00:00<00:00,  7.10it/s]\n"
     ]
    },
    {
     "name": "stdout",
     "output_type": "stream",
     "text": [
      "开始计算rescaling以及填充，使用的特殊值为[]以及nan\n",
      "填充: 川峰分V1_rescaled nan -3.0033697006831575\n",
      "填充: 川峰分V1_rescaled nan -3.0033697006831575\n",
      "warning: 没有对击中赋值，这里先以是否为空定义击中\n"
     ]
    },
    {
     "name": "stderr",
     "output_type": "stream",
     "text": [
      "100%|██████████| 1/1 [00:00<00:00,  6.93it/s]\n"
     ]
    },
    {
     "name": "stdout",
     "output_type": "stream",
     "text": [
      "开始计算rescaling以及填充，使用的特殊值为[]以及nan\n",
      "填充: 川衡分V2_rescaled nan -2.825802242941908\n",
      "填充: 川衡分V2_rescaled nan -2.825802242941908\n",
      "warning: 没有对击中赋值，这里先以是否为空定义击中\n"
     ]
    },
    {
     "name": "stderr",
     "output_type": "stream",
     "text": [
      "100%|██████████| 1/1 [00:00<00:00,  4.40it/s]\n"
     ]
    },
    {
     "name": "stdout",
     "output_type": "stream",
     "text": [
      "开始计算rescaling以及填充，使用的特殊值为[]以及nan\n",
      "填充: BZ_R1V2_Scores_rescaled nan -3.0902527718221466\n",
      "填充: BZ_R1V2_Scores_rescaled nan -3.0902527718221466\n",
      "warning: 没有对击中赋值，这里先以是否为空定义击中\n"
     ]
    },
    {
     "name": "stderr",
     "output_type": "stream",
     "text": [
      "100%|██████████| 1/1 [00:00<00:00,  9.35it/s]\n"
     ]
    },
    {
     "name": "stdout",
     "output_type": "stream",
     "text": [
      "开始计算rescaling以及填充，使用的特殊值为[]以及nan\n",
      "填充: DR_R1_Scores_rescaled nan -3.0902527718221466\n",
      "填充: DR_R1_Scores_rescaled nan -3.0902527718221466\n",
      "warning: 没有对击中赋值，这里先以是否为空定义击中\n"
     ]
    },
    {
     "name": "stderr",
     "output_type": "stream",
     "text": [
      "100%|██████████| 1/1 [00:00<00:00,  5.93it/s]\n"
     ]
    },
    {
     "name": "stdout",
     "output_type": "stream",
     "text": [
      "开始计算rescaling以及填充，使用的特殊值为[]以及nan\n",
      "填充: QZ_R1_Scores_rescaled nan -3.090252771822137\n",
      "填充: QZ_R1_Scores_rescaled nan -3.090252771822137\n",
      "warning: 没有对击中赋值，这里先以是否为空定义击中\n"
     ]
    },
    {
     "name": "stderr",
     "output_type": "stream",
     "text": [
      "100%|██████████| 1/1 [00:00<00:00,  7.99it/s]\n"
     ]
    },
    {
     "name": "stdout",
     "output_type": "stream",
     "text": [
      "开始计算rescaling以及填充，使用的特殊值为[]以及nan\n",
      "填充: score_ali_rescaled nan -3.092523569402953\n",
      "填充: score_ali_rescaled nan -3.092523569402953\n",
      "warning: 没有对击中赋值，这里先以是否为空定义击中\n"
     ]
    },
    {
     "name": "stderr",
     "output_type": "stream",
     "text": [
      "100%|██████████| 1/1 [00:00<00:00,  5.80it/s]\n"
     ]
    },
    {
     "name": "stdout",
     "output_type": "stream",
     "text": [
      "开始计算rescaling以及填充，使用的特殊值为[]以及nan\n",
      "填充: fx_score_v04_rescaled nan -3.094928972047605\n",
      "填充: fx_score_v04_rescaled nan -3.094928972047605\n",
      "warning: 没有对击中赋值，这里先以是否为空定义击中\n"
     ]
    },
    {
     "name": "stderr",
     "output_type": "stream",
     "text": [
      "100%|██████████| 1/1 [00:00<00:00,  6.38it/s]\n"
     ]
    },
    {
     "name": "stdout",
     "output_type": "stream",
     "text": [
      "开始计算rescaling以及填充，使用的特殊值为[]以及nan\n",
      "填充: model_risk_v8_shighirr_score_rescaled nan -3.094858442725003\n",
      "填充: model_risk_v8_shighirr_score_rescaled nan -3.094858442725003\n",
      "warning: 没有对击中赋值，这里先以是否为空定义击中\n"
     ]
    },
    {
     "name": "stderr",
     "output_type": "stream",
     "text": [
      "100%|██████████| 1/1 [00:00<00:00,  5.00it/s]\n"
     ]
    },
    {
     "name": "stdout",
     "output_type": "stream",
     "text": [
      "开始计算rescaling以及填充，使用的特殊值为[]以及nan\n",
      "填充: model_risk_v8_slowirr_score_rescaled nan -3.094858442725031\n",
      "填充: model_risk_v8_slowirr_score_rescaled nan -3.094858442725031\n",
      "warning: 没有对击中赋值，这里先以是否为空定义击中\n"
     ]
    },
    {
     "name": "stderr",
     "output_type": "stream",
     "text": [
      "100%|██████████| 1/1 [00:00<00:00,  5.96it/s]\n"
     ]
    },
    {
     "name": "stdout",
     "output_type": "stream",
     "text": [
      "开始计算rescaling以及填充，使用的特殊值为[]以及nan\n",
      "填充: model_risk_v8_stongyong_score_rescaled nan -3.094858442725022\n",
      "填充: model_risk_v8_stongyong_score_rescaled nan -3.094858442725022\n",
      "warning: 没有对击中赋值，这里先以是否为空定义击中\n"
     ]
    },
    {
     "name": "stderr",
     "output_type": "stream",
     "text": [
      "100%|██████████| 1/1 [00:00<00:00,  5.57it/s]\n"
     ]
    },
    {
     "name": "stdout",
     "output_type": "stream",
     "text": [
      "【DD】正在处理特征：poi_1475_visitDays_cnt_180d\n",
      "开始计算rescaling以及填充，使用的特殊值为[]以及nan\n",
      "填充: 峦盾分V7_rescaled nan -3.1366721494465706\n",
      "填充: 峦盾分V7_rescaled nan -3.1366721494465706\n",
      "warning: 没有对击中赋值，这里先以是否为空定义击中\n"
     ]
    },
    {
     "name": "stderr",
     "output_type": "stream",
     "text": [
      "100%|██████████| 1/1 [00:00<00:00,  5.89it/s]\n"
     ]
    },
    {
     "name": "stdout",
     "output_type": "stream",
     "text": [
      "开始计算rescaling以及填充，使用的特殊值为[]以及nan\n",
      "填充: 峦盾分V8_rescaled nan -3.136672149446752\n",
      "填充: 峦盾分V8_rescaled nan -3.136672149446752\n",
      "warning: 没有对击中赋值，这里先以是否为空定义击中\n"
     ]
    },
    {
     "name": "stderr",
     "output_type": "stream",
     "text": [
      "100%|██████████| 1/1 [00:00<00:00,  8.01it/s]\n"
     ]
    },
    {
     "name": "stdout",
     "output_type": "stream",
     "text": [
      "开始计算rescaling以及填充，使用的特殊值为[]以及nan\n",
      "填充: 川峰分V1_rescaled nan -3.0033697006831575\n",
      "填充: 川峰分V1_rescaled nan -3.0033697006831575\n",
      "warning: 没有对击中赋值，这里先以是否为空定义击中\n"
     ]
    },
    {
     "name": "stderr",
     "output_type": "stream",
     "text": [
      "100%|██████████| 1/1 [00:00<00:00,  8.27it/s]\n"
     ]
    },
    {
     "name": "stdout",
     "output_type": "stream",
     "text": [
      "开始计算rescaling以及填充，使用的特殊值为[]以及nan\n",
      "填充: 川衡分V2_rescaled nan -2.825802242941908\n",
      "填充: 川衡分V2_rescaled nan -2.825802242941908\n",
      "warning: 没有对击中赋值，这里先以是否为空定义击中\n"
     ]
    },
    {
     "name": "stderr",
     "output_type": "stream",
     "text": [
      "100%|██████████| 1/1 [00:00<00:00,  3.72it/s]\n"
     ]
    },
    {
     "name": "stdout",
     "output_type": "stream",
     "text": [
      "开始计算rescaling以及填充，使用的特殊值为[]以及nan\n",
      "填充: BZ_R1V2_Scores_rescaled nan -3.0902527718221466\n",
      "填充: BZ_R1V2_Scores_rescaled nan -3.0902527718221466\n",
      "warning: 没有对击中赋值，这里先以是否为空定义击中\n"
     ]
    },
    {
     "name": "stderr",
     "output_type": "stream",
     "text": [
      "100%|██████████| 1/1 [00:00<00:00, 11.48it/s]\n"
     ]
    },
    {
     "name": "stdout",
     "output_type": "stream",
     "text": [
      "开始计算rescaling以及填充，使用的特殊值为[]以及nan\n",
      "填充: DR_R1_Scores_rescaled nan -3.0902527718221466\n",
      "填充: DR_R1_Scores_rescaled nan -3.0902527718221466\n",
      "warning: 没有对击中赋值，这里先以是否为空定义击中\n"
     ]
    },
    {
     "name": "stderr",
     "output_type": "stream",
     "text": [
      "100%|██████████| 1/1 [00:00<00:00,  5.84it/s]\n"
     ]
    },
    {
     "name": "stdout",
     "output_type": "stream",
     "text": [
      "开始计算rescaling以及填充，使用的特殊值为[]以及nan\n",
      "填充: QZ_R1_Scores_rescaled nan -3.090252771822137\n",
      "填充: QZ_R1_Scores_rescaled nan -3.090252771822137\n",
      "warning: 没有对击中赋值，这里先以是否为空定义击中\n"
     ]
    },
    {
     "name": "stderr",
     "output_type": "stream",
     "text": [
      "100%|██████████| 1/1 [00:00<00:00,  8.73it/s]\n"
     ]
    },
    {
     "name": "stdout",
     "output_type": "stream",
     "text": [
      "开始计算rescaling以及填充，使用的特殊值为[]以及nan\n",
      "填充: score_ali_rescaled nan -3.092523569402953\n",
      "填充: score_ali_rescaled nan -3.092523569402953\n",
      "warning: 没有对击中赋值，这里先以是否为空定义击中\n"
     ]
    },
    {
     "name": "stderr",
     "output_type": "stream",
     "text": [
      "100%|██████████| 1/1 [00:00<00:00,  5.78it/s]\n"
     ]
    },
    {
     "name": "stdout",
     "output_type": "stream",
     "text": [
      "开始计算rescaling以及填充，使用的特殊值为[]以及nan\n",
      "填充: fx_score_v04_rescaled nan -3.094928972047605\n",
      "填充: fx_score_v04_rescaled nan -3.094928972047605\n",
      "warning: 没有对击中赋值，这里先以是否为空定义击中\n"
     ]
    },
    {
     "name": "stderr",
     "output_type": "stream",
     "text": [
      "100%|██████████| 1/1 [00:00<00:00,  6.64it/s]\n"
     ]
    },
    {
     "name": "stdout",
     "output_type": "stream",
     "text": [
      "开始计算rescaling以及填充，使用的特殊值为[]以及nan\n",
      "填充: model_risk_v8_shighirr_score_rescaled nan -3.094858442725003\n",
      "填充: model_risk_v8_shighirr_score_rescaled nan -3.094858442725003\n",
      "warning: 没有对击中赋值，这里先以是否为空定义击中\n"
     ]
    },
    {
     "name": "stderr",
     "output_type": "stream",
     "text": [
      "100%|██████████| 1/1 [00:00<00:00,  5.73it/s]\n"
     ]
    },
    {
     "name": "stdout",
     "output_type": "stream",
     "text": [
      "开始计算rescaling以及填充，使用的特殊值为[]以及nan\n",
      "填充: model_risk_v8_slowirr_score_rescaled nan -3.094858442725031\n",
      "填充: model_risk_v8_slowirr_score_rescaled nan -3.094858442725031\n",
      "warning: 没有对击中赋值，这里先以是否为空定义击中\n"
     ]
    },
    {
     "name": "stderr",
     "output_type": "stream",
     "text": [
      "100%|██████████| 1/1 [00:00<00:00,  6.94it/s]\n"
     ]
    },
    {
     "name": "stdout",
     "output_type": "stream",
     "text": [
      "开始计算rescaling以及填充，使用的特殊值为[]以及nan\n",
      "填充: model_risk_v8_stongyong_score_rescaled nan -3.094858442725022\n",
      "填充: model_risk_v8_stongyong_score_rescaled nan -3.094858442725022\n",
      "warning: 没有对击中赋值，这里先以是否为空定义击中\n"
     ]
    },
    {
     "name": "stderr",
     "output_type": "stream",
     "text": [
      "100%|██████████| 1/1 [00:00<00:00,  5.88it/s]\n"
     ]
    },
    {
     "name": "stdout",
     "output_type": "stream",
     "text": [
      "✅ 文件已保存至：D:\\work\\测评\\飞鸟\\增益分析\\fn_combine_DD.xlsx\n",
      "【HR】正在处理特征：poi_20_visitDays_cnt_180d\n",
      "开始计算rescaling以及填充，使用的特殊值为[]以及nan\n",
      "填充: 峦盾分V7_rescaled nan -2.9369007071672844\n",
      "填充: 峦盾分V7_rescaled nan -2.9369007071672844\n",
      "warning: 没有对击中赋值，这里先以是否为空定义击中\n"
     ]
    },
    {
     "name": "stderr",
     "output_type": "stream",
     "text": [
      "100%|██████████| 1/1 [00:00<00:00,  6.17it/s]\n"
     ]
    },
    {
     "name": "stdout",
     "output_type": "stream",
     "text": [
      "开始计算rescaling以及填充，使用的特殊值为[]以及nan\n",
      "填充: 峦盾分V8_rescaled nan -2.9369007071675135\n",
      "填充: 峦盾分V8_rescaled nan -2.9369007071675135\n",
      "warning: 没有对击中赋值，这里先以是否为空定义击中\n"
     ]
    },
    {
     "name": "stderr",
     "output_type": "stream",
     "text": [
      "100%|██████████| 1/1 [00:00<00:00,  6.68it/s]\n"
     ]
    },
    {
     "name": "stdout",
     "output_type": "stream",
     "text": [
      "开始计算rescaling以及填充，使用的特殊值为[]以及nan\n",
      "填充: 川峰分V1_rescaled nan -2.769409417911568\n",
      "填充: 川峰分V1_rescaled nan -2.769409417911568\n",
      "warning: 没有对击中赋值，这里先以是否为空定义击中\n"
     ]
    },
    {
     "name": "stderr",
     "output_type": "stream",
     "text": [
      "100%|██████████| 1/1 [00:00<00:00,  8.80it/s]\n"
     ]
    },
    {
     "name": "stdout",
     "output_type": "stream",
     "text": [
      "开始计算rescaling以及填充，使用的特殊值为[]以及nan\n",
      "填充: 川衡分V2_rescaled nan -2.708782533613854\n",
      "填充: 川衡分V2_rescaled nan -2.708782533613854\n",
      "warning: 没有对击中赋值，这里先以是否为空定义击中\n"
     ]
    },
    {
     "name": "stderr",
     "output_type": "stream",
     "text": [
      "100%|██████████| 1/1 [00:00<00:00,  4.09it/s]\n"
     ]
    },
    {
     "name": "stdout",
     "output_type": "stream",
     "text": [
      "开始计算rescaling以及填充，使用的特殊值为[]以及nan\n",
      "填充: BZ_R1V2_Scores_rescaled nan -2.9323318432840018\n",
      "填充: BZ_R1V2_Scores_rescaled nan -2.9323318432840018\n",
      "warning: 没有对击中赋值，这里先以是否为空定义击中\n"
     ]
    },
    {
     "name": "stderr",
     "output_type": "stream",
     "text": [
      "100%|██████████| 1/1 [00:00<00:00, 10.07it/s]\n"
     ]
    },
    {
     "name": "stdout",
     "output_type": "stream",
     "text": [
      "开始计算rescaling以及填充，使用的特殊值为[]以及nan\n",
      "填充: DR_R1_Scores_rescaled nan -2.9323318432839596\n",
      "填充: DR_R1_Scores_rescaled nan -2.9323318432839596\n",
      "warning: 没有对击中赋值，这里先以是否为空定义击中\n"
     ]
    },
    {
     "name": "stderr",
     "output_type": "stream",
     "text": [
      "100%|██████████| 1/1 [00:00<00:00,  8.66it/s]\n"
     ]
    },
    {
     "name": "stdout",
     "output_type": "stream",
     "text": [
      "开始计算rescaling以及填充，使用的特殊值为[]以及nan\n",
      "填充: QZ_R1_Scores_rescaled nan -2.9323318432840106\n",
      "填充: QZ_R1_Scores_rescaled nan -2.9323318432840106\n",
      "warning: 没有对击中赋值，这里先以是否为空定义击中\n"
     ]
    },
    {
     "name": "stderr",
     "output_type": "stream",
     "text": [
      "100%|██████████| 1/1 [00:00<00:00,  7.58it/s]\n"
     ]
    },
    {
     "name": "stdout",
     "output_type": "stream",
     "text": [
      "开始计算rescaling以及填充，使用的特殊值为[]以及nan\n",
      "填充: score_ali_rescaled nan -2.931841690607271\n",
      "填充: score_ali_rescaled nan -2.931841690607271\n",
      "warning: 没有对击中赋值，这里先以是否为空定义击中\n"
     ]
    },
    {
     "name": "stderr",
     "output_type": "stream",
     "text": [
      "100%|██████████| 1/1 [00:00<00:00,  5.17it/s]\n"
     ]
    },
    {
     "name": "stdout",
     "output_type": "stream",
     "text": [
      "开始计算rescaling以及填充，使用的特殊值为[]以及nan\n",
      "填充: fx_score_v04_rescaled nan -2.931749153708103\n",
      "填充: fx_score_v04_rescaled nan -2.931749153708103\n",
      "warning: 没有对击中赋值，这里先以是否为空定义击中\n"
     ]
    },
    {
     "name": "stderr",
     "output_type": "stream",
     "text": [
      "100%|██████████| 1/1 [00:00<00:00,  4.32it/s]\n"
     ]
    },
    {
     "name": "stdout",
     "output_type": "stream",
     "text": [
      "开始计算rescaling以及填充，使用的特殊值为[]以及nan\n",
      "填充: model_risk_v8_shighirr_score_rescaled nan -2.9317183061720433\n",
      "填充: model_risk_v8_shighirr_score_rescaled nan -2.9317183061720433\n",
      "warning: 没有对击中赋值，这里先以是否为空定义击中\n"
     ]
    },
    {
     "name": "stderr",
     "output_type": "stream",
     "text": [
      "100%|██████████| 1/1 [00:00<00:00,  4.90it/s]\n"
     ]
    },
    {
     "name": "stdout",
     "output_type": "stream",
     "text": [
      "开始计算rescaling以及填充，使用的特殊值为[]以及nan\n",
      "填充: model_risk_v8_slowirr_score_rescaled nan -2.9315949065112474\n",
      "填充: model_risk_v8_slowirr_score_rescaled nan -2.9315949065112474\n",
      "warning: 没有对击中赋值，这里先以是否为空定义击中\n"
     ]
    },
    {
     "name": "stderr",
     "output_type": "stream",
     "text": [
      "100%|██████████| 1/1 [00:00<00:00,  4.60it/s]\n"
     ]
    },
    {
     "name": "stdout",
     "output_type": "stream",
     "text": [
      "开始计算rescaling以及填充，使用的特殊值为[]以及nan\n",
      "填充: model_risk_v8_stongyong_score_rescaled nan -2.9317183061721117\n",
      "填充: model_risk_v8_stongyong_score_rescaled nan -2.9317183061721117\n",
      "warning: 没有对击中赋值，这里先以是否为空定义击中\n"
     ]
    },
    {
     "name": "stderr",
     "output_type": "stream",
     "text": [
      "100%|██████████| 1/1 [00:00<00:00,  3.98it/s]"
     ]
    },
    {
     "name": "stdout",
     "output_type": "stream",
     "text": [
      "✅ 文件已保存至：D:\\work\\测评\\飞鸟\\增益分析\\fn_combine_HR.xlsx\n"
     ]
    },
    {
     "name": "stderr",
     "output_type": "stream",
     "text": [
      "\n"
     ]
    }
   ],
   "source": [
    "from hundredim.wrapper import combiner\n",
    "import math\n",
    "import pandas as pd\n",
    "\n",
    "# 定义特征列表\n",
    "feature_dict = {\n",
    "    'DD': ['poi_20_visitTime_dayavg_90d', 'poi_1475_visitDays_cnt_180d'],\n",
    "    'HR': ['poi_20_visitDays_cnt_180d']\n",
    "}\n",
    "\n",
    "# 所有的候选 base 特征\n",
    "score_base = score_all.loc[:, '峦盾分V7':].drop(['prod_pp_24', 'weight'], axis=1).columns.tolist()\n",
    "score_base = [x for x in score_base if x not in sum(feature_dict.values(), [])]  # 排除入模特征\n",
    "\n",
    "def calculate_ks(y_true, y_pred):\n",
    "    from sklearn.metrics import roc_curve\n",
    "    fpr, tpr, _ = roc_curve(y_true, y_pred)\n",
    "    return max(tpr - fpr)\n",
    "\n",
    "# 遍历每个客户类型\n",
    "for cust, feature_list in feature_dict.items():\n",
    "    zy_result = pd.DataFrame()\n",
    "\n",
    "    for s1 in feature_list:\n",
    "        print(f\"【{cust}】正在处理特征：{s1}\")\n",
    "        score_cust = score_all[score_all['customer'].eq(cust) & score_all[s1].notna()].copy()\n",
    "\n",
    "        if score_cust.empty:\n",
    "            print(f\"❌ 客群 {cust} 的特征 {s1} 没有有效数据，跳过\")\n",
    "            continue\n",
    "\n",
    "        df_train = score_cust.sample(frac=0.7, random_state=2)\n",
    "        df_test = score_cust.drop(df_train.index)\n",
    "\n",
    "        for s2 in score_base:\n",
    "            if s2 not in df_train.columns:\n",
    "                print(f\"❌ 缺失列：{s2}\")\n",
    "                continue\n",
    "\n",
    "            if df_train[s2].dropna().empty:\n",
    "                print(f\"⚠️ 特征 {s2} 在训练集中全是空，跳过\")\n",
    "                continue\n",
    "\n",
    "            score_new = [s1, s2]\n",
    "            cbn = combiner.Combiner()\n",
    "            cbn.process(df_train, score_new, 'target', 'weight', base_rate=1, pdo=math.log(2), base_score=0)\n",
    "            combine_all = cbn.combination(df_train, df_test, score_new, 'target', 'weight')\n",
    "\n",
    "            # KS 增益\n",
    "            combine_all['fn_ks_train'] = calculate_ks(df_train['target'], df_train[s1])\n",
    "            combine_all['fn_ks_test'] = calculate_ks(df_test['target'], df_test[s1])\n",
    "            combine_all['base_ks_train'] = calculate_ks(df_train['target'], df_train[s2].fillna(-1))\n",
    "            combine_all['base_ks_test'] = calculate_ks(df_test['target'], df_test[s2].fillna(-1))\n",
    "\n",
    "            combine_all[['ks_train', 'ks_test']] = combine_all[['ks_train', 'ks_test']] * 100\n",
    "            combine_all['train_ks_zy'] = combine_all['ks_train'] - combine_all['base_ks_train']\n",
    "            combine_all['test_ks_zy'] = combine_all['ks_test'] - combine_all['base_ks_test']\n",
    "\n",
    "            combine_all_less = combine_all[[\n",
    "                'subscores_and_weights_std',\n",
    "                'ks_train', 'ks_test',\n",
    "                'fn_ks_train', 'fn_ks_test',\n",
    "                'base_ks_train', 'base_ks_test',\n",
    "                'train_ks_zy', 'test_ks_zy'\n",
    "            ]]\n",
    "            combine_all_less = combine_all_less.rename(columns=lambda col: f\"{col}_{cust}\")\n",
    "            combine_all_less = combine_all_less.round(2)\n",
    "            zy_result = pd.concat([zy_result, combine_all_less], ignore_index=True)\n",
    "\n",
    "    if not zy_result.empty:\n",
    "        output_path = fr'D:\\work\\测评\\飞鸟\\增益分析\\fn_combine_{cust}.xlsx'\n",
    "        zy_result.to_excel(output_path, index=False)\n",
    "        print(f\"✅ 文件已保存至：{output_path}\")\n",
    "    else:\n",
    "        print(f\"⚠️ 客群 {cust} 无有效分析结果\") "
   ]
  }
 ],
 "metadata": {
  "kernelspec": {
   "display_name": "Python [conda env:base] *",
   "language": "python",
   "name": "conda-base-py"
  },
  "language_info": {
   "codemirror_mode": {
    "name": "ipython",
    "version": 3
   },
   "file_extension": ".py",
   "mimetype": "text/x-python",
   "name": "python",
   "nbconvert_exporter": "python",
   "pygments_lexer": "ipython3",
   "version": "3.13.5"
  }
 },
 "nbformat": 4,
 "nbformat_minor": 5
}
